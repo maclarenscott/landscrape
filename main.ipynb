{
 "cells": [
  {
   "cell_type": "code",
   "execution_count": 45,
   "metadata": {},
   "outputs": [
    {
     "name": "stdout",
     "output_type": "stream",
     "text": [
      "Requirement already satisfied: pip in /Library/Frameworks/Python.framework/Versions/3.12/lib/python3.12/site-packages (24.3.1)\n",
      "Requirement already satisfied: openpyxl in /Library/Frameworks/Python.framework/Versions/3.12/lib/python3.12/site-packages (3.1.5)\n",
      "Requirement already satisfied: et-xmlfile in /Library/Frameworks/Python.framework/Versions/3.12/lib/python3.12/site-packages (from openpyxl) (2.0.0)\n",
      "Requirement already satisfied: geopy in /Library/Frameworks/Python.framework/Versions/3.12/lib/python3.12/site-packages (2.4.1)\n",
      "Requirement already satisfied: geographiclib<3,>=1.52 in /Library/Frameworks/Python.framework/Versions/3.12/lib/python3.12/site-packages (from geopy) (2.0)\n",
      "Requirement already satisfied: nbformat in /Library/Frameworks/Python.framework/Versions/3.12/lib/python3.12/site-packages (5.10.4)\n",
      "Requirement already satisfied: fastjsonschema>=2.15 in /Library/Frameworks/Python.framework/Versions/3.12/lib/python3.12/site-packages (from nbformat) (2.20.0)\n",
      "Requirement already satisfied: jsonschema>=2.6 in /Library/Frameworks/Python.framework/Versions/3.12/lib/python3.12/site-packages (from nbformat) (4.23.0)\n",
      "Requirement already satisfied: jupyter-core!=5.0.*,>=4.12 in /Users/maclarenscott/Library/Python/3.12/lib/python/site-packages (from nbformat) (5.7.2)\n",
      "Requirement already satisfied: traitlets>=5.1 in /Users/maclarenscott/Library/Python/3.12/lib/python/site-packages (from nbformat) (5.14.3)\n",
      "Requirement already satisfied: attrs>=22.2.0 in /Library/Frameworks/Python.framework/Versions/3.12/lib/python3.12/site-packages (from jsonschema>=2.6->nbformat) (24.2.0)\n",
      "Requirement already satisfied: jsonschema-specifications>=2023.03.6 in /Library/Frameworks/Python.framework/Versions/3.12/lib/python3.12/site-packages (from jsonschema>=2.6->nbformat) (2024.10.1)\n",
      "Requirement already satisfied: referencing>=0.28.4 in /Library/Frameworks/Python.framework/Versions/3.12/lib/python3.12/site-packages (from jsonschema>=2.6->nbformat) (0.35.1)\n",
      "Requirement already satisfied: rpds-py>=0.7.1 in /Library/Frameworks/Python.framework/Versions/3.12/lib/python3.12/site-packages (from jsonschema>=2.6->nbformat) (0.21.0)\n",
      "Requirement already satisfied: platformdirs>=2.5 in /Users/maclarenscott/Library/Python/3.12/lib/python/site-packages (from jupyter-core!=5.0.*,>=4.12->nbformat) (4.3.6)\n",
      "Requirement already satisfied: ipykernel in /Users/maclarenscott/Library/Python/3.12/lib/python/site-packages (6.29.5)\n",
      "Requirement already satisfied: appnope in /Users/maclarenscott/Library/Python/3.12/lib/python/site-packages (from ipykernel) (0.1.4)\n",
      "Requirement already satisfied: comm>=0.1.1 in /Users/maclarenscott/Library/Python/3.12/lib/python/site-packages (from ipykernel) (0.2.2)\n",
      "Requirement already satisfied: debugpy>=1.6.5 in /Users/maclarenscott/Library/Python/3.12/lib/python/site-packages (from ipykernel) (1.8.6)\n",
      "Requirement already satisfied: ipython>=7.23.1 in /Users/maclarenscott/Library/Python/3.12/lib/python/site-packages (from ipykernel) (8.27.0)\n",
      "Requirement already satisfied: jupyter-client>=6.1.12 in /Users/maclarenscott/Library/Python/3.12/lib/python/site-packages (from ipykernel) (8.6.3)\n",
      "Requirement already satisfied: jupyter-core!=5.0.*,>=4.12 in /Users/maclarenscott/Library/Python/3.12/lib/python/site-packages (from ipykernel) (5.7.2)\n",
      "Requirement already satisfied: matplotlib-inline>=0.1 in /Users/maclarenscott/Library/Python/3.12/lib/python/site-packages (from ipykernel) (0.1.7)\n",
      "Requirement already satisfied: nest-asyncio in /Users/maclarenscott/Library/Python/3.12/lib/python/site-packages (from ipykernel) (1.6.0)\n",
      "Requirement already satisfied: packaging in /Users/maclarenscott/Library/Python/3.12/lib/python/site-packages (from ipykernel) (24.1)\n",
      "Requirement already satisfied: psutil in /Users/maclarenscott/Library/Python/3.12/lib/python/site-packages (from ipykernel) (6.0.0)\n",
      "Requirement already satisfied: pyzmq>=24 in /Users/maclarenscott/Library/Python/3.12/lib/python/site-packages (from ipykernel) (26.2.0)\n",
      "Requirement already satisfied: tornado>=6.1 in /Users/maclarenscott/Library/Python/3.12/lib/python/site-packages (from ipykernel) (6.4.1)\n",
      "Requirement already satisfied: traitlets>=5.4.0 in /Users/maclarenscott/Library/Python/3.12/lib/python/site-packages (from ipykernel) (5.14.3)\n",
      "Requirement already satisfied: decorator in /Users/maclarenscott/Library/Python/3.12/lib/python/site-packages (from ipython>=7.23.1->ipykernel) (5.1.1)\n",
      "Requirement already satisfied: jedi>=0.16 in /Users/maclarenscott/Library/Python/3.12/lib/python/site-packages (from ipython>=7.23.1->ipykernel) (0.19.1)\n",
      "Requirement already satisfied: prompt-toolkit<3.1.0,>=3.0.41 in /Users/maclarenscott/Library/Python/3.12/lib/python/site-packages (from ipython>=7.23.1->ipykernel) (3.0.48)\n",
      "Requirement already satisfied: pygments>=2.4.0 in /Users/maclarenscott/Library/Python/3.12/lib/python/site-packages (from ipython>=7.23.1->ipykernel) (2.18.0)\n",
      "Requirement already satisfied: stack-data in /Users/maclarenscott/Library/Python/3.12/lib/python/site-packages (from ipython>=7.23.1->ipykernel) (0.6.3)\n",
      "Requirement already satisfied: pexpect>4.3 in /Users/maclarenscott/Library/Python/3.12/lib/python/site-packages (from ipython>=7.23.1->ipykernel) (4.9.0)\n",
      "Requirement already satisfied: python-dateutil>=2.8.2 in /Library/Frameworks/Python.framework/Versions/3.12/lib/python3.12/site-packages (from jupyter-client>=6.1.12->ipykernel) (2.9.0.post0)\n",
      "Requirement already satisfied: platformdirs>=2.5 in /Users/maclarenscott/Library/Python/3.12/lib/python/site-packages (from jupyter-core!=5.0.*,>=4.12->ipykernel) (4.3.6)\n",
      "Requirement already satisfied: parso<0.9.0,>=0.8.3 in /Users/maclarenscott/Library/Python/3.12/lib/python/site-packages (from jedi>=0.16->ipython>=7.23.1->ipykernel) (0.8.4)\n",
      "Requirement already satisfied: ptyprocess>=0.5 in /Users/maclarenscott/Library/Python/3.12/lib/python/site-packages (from pexpect>4.3->ipython>=7.23.1->ipykernel) (0.7.0)\n",
      "Requirement already satisfied: wcwidth in /Users/maclarenscott/Library/Python/3.12/lib/python/site-packages (from prompt-toolkit<3.1.0,>=3.0.41->ipython>=7.23.1->ipykernel) (0.2.13)\n",
      "Requirement already satisfied: six>=1.5 in /Library/Frameworks/Python.framework/Versions/3.12/lib/python3.12/site-packages (from python-dateutil>=2.8.2->jupyter-client>=6.1.12->ipykernel) (1.16.0)\n",
      "Requirement already satisfied: executing>=1.2.0 in /Users/maclarenscott/Library/Python/3.12/lib/python/site-packages (from stack-data->ipython>=7.23.1->ipykernel) (2.1.0)\n",
      "Requirement already satisfied: asttokens>=2.1.0 in /Users/maclarenscott/Library/Python/3.12/lib/python/site-packages (from stack-data->ipython>=7.23.1->ipykernel) (2.4.1)\n",
      "Requirement already satisfied: pure-eval in /Users/maclarenscott/Library/Python/3.12/lib/python/site-packages (from stack-data->ipython>=7.23.1->ipykernel) (0.2.3)\n",
      "Requirement already satisfied: nbformat in /Library/Frameworks/Python.framework/Versions/3.12/lib/python3.12/site-packages (5.10.4)\n",
      "Requirement already satisfied: fastjsonschema>=2.15 in /Library/Frameworks/Python.framework/Versions/3.12/lib/python3.12/site-packages (from nbformat) (2.20.0)\n",
      "Requirement already satisfied: jsonschema>=2.6 in /Library/Frameworks/Python.framework/Versions/3.12/lib/python3.12/site-packages (from nbformat) (4.23.0)\n",
      "Requirement already satisfied: jupyter-core!=5.0.*,>=4.12 in /Users/maclarenscott/Library/Python/3.12/lib/python/site-packages (from nbformat) (5.7.2)\n",
      "Requirement already satisfied: traitlets>=5.1 in /Users/maclarenscott/Library/Python/3.12/lib/python/site-packages (from nbformat) (5.14.3)\n",
      "Requirement already satisfied: attrs>=22.2.0 in /Library/Frameworks/Python.framework/Versions/3.12/lib/python3.12/site-packages (from jsonschema>=2.6->nbformat) (24.2.0)\n",
      "Requirement already satisfied: jsonschema-specifications>=2023.03.6 in /Library/Frameworks/Python.framework/Versions/3.12/lib/python3.12/site-packages (from jsonschema>=2.6->nbformat) (2024.10.1)\n",
      "Requirement already satisfied: referencing>=0.28.4 in /Library/Frameworks/Python.framework/Versions/3.12/lib/python3.12/site-packages (from jsonschema>=2.6->nbformat) (0.35.1)\n",
      "Requirement already satisfied: rpds-py>=0.7.1 in /Library/Frameworks/Python.framework/Versions/3.12/lib/python3.12/site-packages (from jsonschema>=2.6->nbformat) (0.21.0)\n",
      "Requirement already satisfied: platformdirs>=2.5 in /Users/maclarenscott/Library/Python/3.12/lib/python/site-packages (from jupyter-core!=5.0.*,>=4.12->nbformat) (4.3.6)\n",
      "Requirement already satisfied: certifi in /Library/Frameworks/Python.framework/Versions/3.12/lib/python3.12/site-packages (2024.8.30)\n",
      "Requirement already satisfied: dash_bootstrap_components in /Library/Frameworks/Python.framework/Versions/3.12/lib/python3.12/site-packages (1.6.0)\n",
      "Requirement already satisfied: dash>=2.0.0 in /Library/Frameworks/Python.framework/Versions/3.12/lib/python3.12/site-packages (from dash_bootstrap_components) (2.18.1)\n",
      "Requirement already satisfied: Flask<3.1,>=1.0.4 in /Library/Frameworks/Python.framework/Versions/3.12/lib/python3.12/site-packages (from dash>=2.0.0->dash_bootstrap_components) (3.0.3)\n",
      "Requirement already satisfied: Werkzeug<3.1 in /Library/Frameworks/Python.framework/Versions/3.12/lib/python3.12/site-packages (from dash>=2.0.0->dash_bootstrap_components) (3.0.4)\n",
      "Requirement already satisfied: plotly>=5.0.0 in /Library/Frameworks/Python.framework/Versions/3.12/lib/python3.12/site-packages (from dash>=2.0.0->dash_bootstrap_components) (5.24.1)\n",
      "Requirement already satisfied: dash-html-components==2.0.0 in /Library/Frameworks/Python.framework/Versions/3.12/lib/python3.12/site-packages (from dash>=2.0.0->dash_bootstrap_components) (2.0.0)\n",
      "Requirement already satisfied: dash-core-components==2.0.0 in /Library/Frameworks/Python.framework/Versions/3.12/lib/python3.12/site-packages (from dash>=2.0.0->dash_bootstrap_components) (2.0.0)\n",
      "Requirement already satisfied: dash-table==5.0.0 in /Library/Frameworks/Python.framework/Versions/3.12/lib/python3.12/site-packages (from dash>=2.0.0->dash_bootstrap_components) (5.0.0)\n",
      "Requirement already satisfied: importlib-metadata in /Library/Frameworks/Python.framework/Versions/3.12/lib/python3.12/site-packages (from dash>=2.0.0->dash_bootstrap_components) (8.5.0)\n",
      "Requirement already satisfied: typing-extensions>=4.1.1 in /Library/Frameworks/Python.framework/Versions/3.12/lib/python3.12/site-packages (from dash>=2.0.0->dash_bootstrap_components) (4.12.2)\n",
      "Requirement already satisfied: requests in /Library/Frameworks/Python.framework/Versions/3.12/lib/python3.12/site-packages (from dash>=2.0.0->dash_bootstrap_components) (2.32.3)\n",
      "Requirement already satisfied: retrying in /Library/Frameworks/Python.framework/Versions/3.12/lib/python3.12/site-packages (from dash>=2.0.0->dash_bootstrap_components) (1.3.4)\n",
      "Requirement already satisfied: nest-asyncio in /Users/maclarenscott/Library/Python/3.12/lib/python/site-packages (from dash>=2.0.0->dash_bootstrap_components) (1.6.0)\n",
      "Requirement already satisfied: setuptools in /Library/Frameworks/Python.framework/Versions/3.12/lib/python3.12/site-packages (from dash>=2.0.0->dash_bootstrap_components) (75.1.0)\n",
      "Requirement already satisfied: Jinja2>=3.1.2 in /Library/Frameworks/Python.framework/Versions/3.12/lib/python3.12/site-packages (from Flask<3.1,>=1.0.4->dash>=2.0.0->dash_bootstrap_components) (3.1.4)\n",
      "Requirement already satisfied: itsdangerous>=2.1.2 in /Library/Frameworks/Python.framework/Versions/3.12/lib/python3.12/site-packages (from Flask<3.1,>=1.0.4->dash>=2.0.0->dash_bootstrap_components) (2.2.0)\n",
      "Requirement already satisfied: click>=8.1.3 in /Library/Frameworks/Python.framework/Versions/3.12/lib/python3.12/site-packages (from Flask<3.1,>=1.0.4->dash>=2.0.0->dash_bootstrap_components) (8.1.7)\n",
      "Requirement already satisfied: blinker>=1.6.2 in /Library/Frameworks/Python.framework/Versions/3.12/lib/python3.12/site-packages (from Flask<3.1,>=1.0.4->dash>=2.0.0->dash_bootstrap_components) (1.8.2)\n",
      "Requirement already satisfied: tenacity>=6.2.0 in /Library/Frameworks/Python.framework/Versions/3.12/lib/python3.12/site-packages (from plotly>=5.0.0->dash>=2.0.0->dash_bootstrap_components) (9.0.0)\n",
      "Requirement already satisfied: packaging in /Users/maclarenscott/Library/Python/3.12/lib/python/site-packages (from plotly>=5.0.0->dash>=2.0.0->dash_bootstrap_components) (24.1)\n",
      "Requirement already satisfied: MarkupSafe>=2.1.1 in /Library/Frameworks/Python.framework/Versions/3.12/lib/python3.12/site-packages (from Werkzeug<3.1->dash>=2.0.0->dash_bootstrap_components) (3.0.1)\n",
      "Requirement already satisfied: zipp>=3.20 in /Library/Frameworks/Python.framework/Versions/3.12/lib/python3.12/site-packages (from importlib-metadata->dash>=2.0.0->dash_bootstrap_components) (3.20.2)\n",
      "Requirement already satisfied: charset-normalizer<4,>=2 in /Library/Frameworks/Python.framework/Versions/3.12/lib/python3.12/site-packages (from requests->dash>=2.0.0->dash_bootstrap_components) (3.4.0)\n",
      "Requirement already satisfied: idna<4,>=2.5 in /Library/Frameworks/Python.framework/Versions/3.12/lib/python3.12/site-packages (from requests->dash>=2.0.0->dash_bootstrap_components) (3.10)\n",
      "Requirement already satisfied: urllib3<3,>=1.21.1 in /Library/Frameworks/Python.framework/Versions/3.12/lib/python3.12/site-packages (from requests->dash>=2.0.0->dash_bootstrap_components) (2.2.3)\n",
      "Requirement already satisfied: certifi>=2017.4.17 in /Library/Frameworks/Python.framework/Versions/3.12/lib/python3.12/site-packages (from requests->dash>=2.0.0->dash_bootstrap_components) (2024.8.30)\n",
      "Requirement already satisfied: six>=1.7.0 in /Library/Frameworks/Python.framework/Versions/3.12/lib/python3.12/site-packages (from retrying->dash>=2.0.0->dash_bootstrap_components) (1.16.0)\n",
      "Collecting jupyter-dash\n",
      "  Downloading jupyter_dash-0.4.2-py3-none-any.whl.metadata (3.6 kB)\n",
      "Requirement already satisfied: dash in /Library/Frameworks/Python.framework/Versions/3.12/lib/python3.12/site-packages (from jupyter-dash) (2.18.1)\n",
      "Requirement already satisfied: requests in /Library/Frameworks/Python.framework/Versions/3.12/lib/python3.12/site-packages (from jupyter-dash) (2.32.3)\n",
      "Requirement already satisfied: flask in /Library/Frameworks/Python.framework/Versions/3.12/lib/python3.12/site-packages (from jupyter-dash) (3.0.3)\n",
      "Requirement already satisfied: retrying in /Library/Frameworks/Python.framework/Versions/3.12/lib/python3.12/site-packages (from jupyter-dash) (1.3.4)\n",
      "Requirement already satisfied: ipython in /Users/maclarenscott/Library/Python/3.12/lib/python/site-packages (from jupyter-dash) (8.27.0)\n",
      "Requirement already satisfied: ipykernel in /Users/maclarenscott/Library/Python/3.12/lib/python/site-packages (from jupyter-dash) (6.29.5)\n",
      "Collecting ansi2html (from jupyter-dash)\n",
      "  Downloading ansi2html-1.9.2-py3-none-any.whl.metadata (3.7 kB)\n",
      "Requirement already satisfied: nest-asyncio in /Users/maclarenscott/Library/Python/3.12/lib/python/site-packages (from jupyter-dash) (1.6.0)\n",
      "Requirement already satisfied: Werkzeug<3.1 in /Library/Frameworks/Python.framework/Versions/3.12/lib/python3.12/site-packages (from dash->jupyter-dash) (3.0.4)\n",
      "Requirement already satisfied: plotly>=5.0.0 in /Library/Frameworks/Python.framework/Versions/3.12/lib/python3.12/site-packages (from dash->jupyter-dash) (5.24.1)\n",
      "Requirement already satisfied: dash-html-components==2.0.0 in /Library/Frameworks/Python.framework/Versions/3.12/lib/python3.12/site-packages (from dash->jupyter-dash) (2.0.0)\n",
      "Requirement already satisfied: dash-core-components==2.0.0 in /Library/Frameworks/Python.framework/Versions/3.12/lib/python3.12/site-packages (from dash->jupyter-dash) (2.0.0)\n",
      "Requirement already satisfied: dash-table==5.0.0 in /Library/Frameworks/Python.framework/Versions/3.12/lib/python3.12/site-packages (from dash->jupyter-dash) (5.0.0)\n",
      "Requirement already satisfied: importlib-metadata in /Library/Frameworks/Python.framework/Versions/3.12/lib/python3.12/site-packages (from dash->jupyter-dash) (8.5.0)\n",
      "Requirement already satisfied: typing-extensions>=4.1.1 in /Library/Frameworks/Python.framework/Versions/3.12/lib/python3.12/site-packages (from dash->jupyter-dash) (4.12.2)\n",
      "Requirement already satisfied: setuptools in /Library/Frameworks/Python.framework/Versions/3.12/lib/python3.12/site-packages (from dash->jupyter-dash) (75.1.0)\n",
      "Requirement already satisfied: Jinja2>=3.1.2 in /Library/Frameworks/Python.framework/Versions/3.12/lib/python3.12/site-packages (from flask->jupyter-dash) (3.1.4)\n",
      "Requirement already satisfied: itsdangerous>=2.1.2 in /Library/Frameworks/Python.framework/Versions/3.12/lib/python3.12/site-packages (from flask->jupyter-dash) (2.2.0)\n",
      "Requirement already satisfied: click>=8.1.3 in /Library/Frameworks/Python.framework/Versions/3.12/lib/python3.12/site-packages (from flask->jupyter-dash) (8.1.7)\n",
      "Requirement already satisfied: blinker>=1.6.2 in /Library/Frameworks/Python.framework/Versions/3.12/lib/python3.12/site-packages (from flask->jupyter-dash) (1.8.2)\n",
      "Requirement already satisfied: appnope in /Users/maclarenscott/Library/Python/3.12/lib/python/site-packages (from ipykernel->jupyter-dash) (0.1.4)\n",
      "Requirement already satisfied: comm>=0.1.1 in /Users/maclarenscott/Library/Python/3.12/lib/python/site-packages (from ipykernel->jupyter-dash) (0.2.2)\n",
      "Requirement already satisfied: debugpy>=1.6.5 in /Users/maclarenscott/Library/Python/3.12/lib/python/site-packages (from ipykernel->jupyter-dash) (1.8.6)\n",
      "Requirement already satisfied: jupyter-client>=6.1.12 in /Users/maclarenscott/Library/Python/3.12/lib/python/site-packages (from ipykernel->jupyter-dash) (8.6.3)\n",
      "Requirement already satisfied: jupyter-core!=5.0.*,>=4.12 in /Users/maclarenscott/Library/Python/3.12/lib/python/site-packages (from ipykernel->jupyter-dash) (5.7.2)\n",
      "Requirement already satisfied: matplotlib-inline>=0.1 in /Users/maclarenscott/Library/Python/3.12/lib/python/site-packages (from ipykernel->jupyter-dash) (0.1.7)\n",
      "Requirement already satisfied: packaging in /Users/maclarenscott/Library/Python/3.12/lib/python/site-packages (from ipykernel->jupyter-dash) (24.1)\n",
      "Requirement already satisfied: psutil in /Users/maclarenscott/Library/Python/3.12/lib/python/site-packages (from ipykernel->jupyter-dash) (6.0.0)\n",
      "Requirement already satisfied: pyzmq>=24 in /Users/maclarenscott/Library/Python/3.12/lib/python/site-packages (from ipykernel->jupyter-dash) (26.2.0)\n",
      "Requirement already satisfied: tornado>=6.1 in /Users/maclarenscott/Library/Python/3.12/lib/python/site-packages (from ipykernel->jupyter-dash) (6.4.1)\n",
      "Requirement already satisfied: traitlets>=5.4.0 in /Users/maclarenscott/Library/Python/3.12/lib/python/site-packages (from ipykernel->jupyter-dash) (5.14.3)\n",
      "Requirement already satisfied: decorator in /Users/maclarenscott/Library/Python/3.12/lib/python/site-packages (from ipython->jupyter-dash) (5.1.1)\n",
      "Requirement already satisfied: jedi>=0.16 in /Users/maclarenscott/Library/Python/3.12/lib/python/site-packages (from ipython->jupyter-dash) (0.19.1)\n",
      "Requirement already satisfied: prompt-toolkit<3.1.0,>=3.0.41 in /Users/maclarenscott/Library/Python/3.12/lib/python/site-packages (from ipython->jupyter-dash) (3.0.48)\n",
      "Requirement already satisfied: pygments>=2.4.0 in /Users/maclarenscott/Library/Python/3.12/lib/python/site-packages (from ipython->jupyter-dash) (2.18.0)\n",
      "Requirement already satisfied: stack-data in /Users/maclarenscott/Library/Python/3.12/lib/python/site-packages (from ipython->jupyter-dash) (0.6.3)\n",
      "Requirement already satisfied: pexpect>4.3 in /Users/maclarenscott/Library/Python/3.12/lib/python/site-packages (from ipython->jupyter-dash) (4.9.0)\n",
      "Requirement already satisfied: charset-normalizer<4,>=2 in /Library/Frameworks/Python.framework/Versions/3.12/lib/python3.12/site-packages (from requests->jupyter-dash) (3.4.0)\n",
      "Requirement already satisfied: idna<4,>=2.5 in /Library/Frameworks/Python.framework/Versions/3.12/lib/python3.12/site-packages (from requests->jupyter-dash) (3.10)\n",
      "Requirement already satisfied: urllib3<3,>=1.21.1 in /Library/Frameworks/Python.framework/Versions/3.12/lib/python3.12/site-packages (from requests->jupyter-dash) (2.2.3)\n",
      "Requirement already satisfied: certifi>=2017.4.17 in /Library/Frameworks/Python.framework/Versions/3.12/lib/python3.12/site-packages (from requests->jupyter-dash) (2024.8.30)\n",
      "Requirement already satisfied: six>=1.7.0 in /Library/Frameworks/Python.framework/Versions/3.12/lib/python3.12/site-packages (from retrying->jupyter-dash) (1.16.0)\n",
      "Requirement already satisfied: parso<0.9.0,>=0.8.3 in /Users/maclarenscott/Library/Python/3.12/lib/python/site-packages (from jedi>=0.16->ipython->jupyter-dash) (0.8.4)\n",
      "Requirement already satisfied: MarkupSafe>=2.0 in /Library/Frameworks/Python.framework/Versions/3.12/lib/python3.12/site-packages (from Jinja2>=3.1.2->flask->jupyter-dash) (3.0.1)\n",
      "Requirement already satisfied: python-dateutil>=2.8.2 in /Library/Frameworks/Python.framework/Versions/3.12/lib/python3.12/site-packages (from jupyter-client>=6.1.12->ipykernel->jupyter-dash) (2.9.0.post0)\n",
      "Requirement already satisfied: platformdirs>=2.5 in /Users/maclarenscott/Library/Python/3.12/lib/python/site-packages (from jupyter-core!=5.0.*,>=4.12->ipykernel->jupyter-dash) (4.3.6)\n",
      "Requirement already satisfied: ptyprocess>=0.5 in /Users/maclarenscott/Library/Python/3.12/lib/python/site-packages (from pexpect>4.3->ipython->jupyter-dash) (0.7.0)\n",
      "Requirement already satisfied: tenacity>=6.2.0 in /Library/Frameworks/Python.framework/Versions/3.12/lib/python3.12/site-packages (from plotly>=5.0.0->dash->jupyter-dash) (9.0.0)\n",
      "Requirement already satisfied: wcwidth in /Users/maclarenscott/Library/Python/3.12/lib/python/site-packages (from prompt-toolkit<3.1.0,>=3.0.41->ipython->jupyter-dash) (0.2.13)\n",
      "Requirement already satisfied: zipp>=3.20 in /Library/Frameworks/Python.framework/Versions/3.12/lib/python3.12/site-packages (from importlib-metadata->dash->jupyter-dash) (3.20.2)\n",
      "Requirement already satisfied: executing>=1.2.0 in /Users/maclarenscott/Library/Python/3.12/lib/python/site-packages (from stack-data->ipython->jupyter-dash) (2.1.0)\n",
      "Requirement already satisfied: asttokens>=2.1.0 in /Users/maclarenscott/Library/Python/3.12/lib/python/site-packages (from stack-data->ipython->jupyter-dash) (2.4.1)\n",
      "Requirement already satisfied: pure-eval in /Users/maclarenscott/Library/Python/3.12/lib/python/site-packages (from stack-data->ipython->jupyter-dash) (0.2.3)\n",
      "Downloading jupyter_dash-0.4.2-py3-none-any.whl (23 kB)\n",
      "Downloading ansi2html-1.9.2-py3-none-any.whl (17 kB)\n",
      "Installing collected packages: ansi2html, jupyter-dash\n",
      "Successfully installed ansi2html-1.9.2 jupyter-dash-0.4.2\n"
     ]
    }
   ],
   "source": [
    "!pip3 install --upgrade pip\n",
    "!pip3 install openpyxl\n",
    "!pip3 install geopy\n",
    "!pip3 install nbformat --upgrade\n",
    "!pip3 install ipykernel\n",
    "!pip3 install --upgrade nbformat\n",
    "!pip install certifi --upgrade\n",
    "!pip install dash_bootstrap_components\n",
    "!pip install jupyter-dash\n",
    "\n",
    "\n"
   ]
  },
  {
   "cell_type": "code",
   "execution_count": 2,
   "metadata": {},
   "outputs": [],
   "source": [
    "import pandas as pd\n",
    "import openpyxl\n",
    "\n",
    "# Load the Excel file into a DataFrame\n",
    "df = pd.read_excel(\"DataExport.xlsx\")"
   ]
  },
  {
   "cell_type": "code",
   "execution_count": 3,
   "metadata": {},
   "outputs": [
    {
     "data": {
      "text/html": [
       "<div>\n",
       "<style scoped>\n",
       "    .dataframe tbody tr th:only-of-type {\n",
       "        vertical-align: middle;\n",
       "    }\n",
       "\n",
       "    .dataframe tbody tr th {\n",
       "        vertical-align: top;\n",
       "    }\n",
       "\n",
       "    .dataframe thead th {\n",
       "        text-align: right;\n",
       "    }\n",
       "</style>\n",
       "<table border=\"1\" class=\"dataframe\">\n",
       "  <thead>\n",
       "    <tr style=\"text-align: right;\">\n",
       "      <th></th>\n",
       "      <th>Application Number</th>\n",
       "      <th>Application Date</th>\n",
       "      <th>Application Type</th>\n",
       "      <th>Address Number</th>\n",
       "      <th>Road Name</th>\n",
       "      <th>Road Type</th>\n",
       "      <th>Object Status Type</th>\n",
       "      <th>Application Status</th>\n",
       "      <th>File Lead</th>\n",
       "      <th>Brief Description</th>\n",
       "      <th>Object Status Date</th>\n",
       "      <th>Ward #</th>\n",
       "      <th>Ward</th>\n",
       "    </tr>\n",
       "  </thead>\n",
       "  <tbody>\n",
       "    <tr>\n",
       "      <th>0</th>\n",
       "      <td>D07-05-16-0003</td>\n",
       "      <td>2016-06-20</td>\n",
       "      <td>Demolition Control</td>\n",
       "      <td>101</td>\n",
       "      <td>WURTEMBURG</td>\n",
       "      <td>Street</td>\n",
       "      <td>Agreement Signed</td>\n",
       "      <td>Post Approval</td>\n",
       "      <td>Douglas James</td>\n",
       "      <td>The application for demolition control propose...</td>\n",
       "      <td>2016-09-26 15:21</td>\n",
       "      <td>Ward 12</td>\n",
       "      <td>RIDEAU-VANIER</td>\n",
       "    </tr>\n",
       "    <tr>\n",
       "      <th>1</th>\n",
       "      <td>D07-05-15-0008</td>\n",
       "      <td>2015-12-14</td>\n",
       "      <td>Demolition Control</td>\n",
       "      <td>163</td>\n",
       "      <td>PARKDALE</td>\n",
       "      <td>Avenue</td>\n",
       "      <td>Agreement Registered - Final Legal Clearance G...</td>\n",
       "      <td>Post Approval</td>\n",
       "      <td>Tracey Scaramozzino</td>\n",
       "      <td>An application for Demolition Control for the ...</td>\n",
       "      <td>2018-09-25 09:49</td>\n",
       "      <td>Ward 15</td>\n",
       "      <td>KITCHISSIPPI</td>\n",
       "    </tr>\n",
       "    <tr>\n",
       "      <th>2</th>\n",
       "      <td>D07-05-15-0008</td>\n",
       "      <td>2015-12-14</td>\n",
       "      <td>Demolition Control</td>\n",
       "      <td>167</td>\n",
       "      <td>PARKDALE</td>\n",
       "      <td>Avenue</td>\n",
       "      <td>Agreement Registered - Final Legal Clearance G...</td>\n",
       "      <td>Post Approval</td>\n",
       "      <td>Tracey Scaramozzino</td>\n",
       "      <td>An application for Demolition Control for the ...</td>\n",
       "      <td>2018-09-25 09:49</td>\n",
       "      <td>Ward 15</td>\n",
       "      <td>KITCHISSIPPI</td>\n",
       "    </tr>\n",
       "    <tr>\n",
       "      <th>3</th>\n",
       "      <td>D07-16-15-0015</td>\n",
       "      <td>2015-12-30</td>\n",
       "      <td>Plan of Subdivision</td>\n",
       "      <td>1626</td>\n",
       "      <td>OLD PRESCOTT</td>\n",
       "      <td>Road</td>\n",
       "      <td>Application File Pending</td>\n",
       "      <td>File Pending</td>\n",
       "      <td>Cheryl Mcwilliams</td>\n",
       "      <td>The proposed plan of subdivision comprises pha...</td>\n",
       "      <td>2016-03-17 09:48</td>\n",
       "      <td>Ward 20</td>\n",
       "      <td>OSGOODE</td>\n",
       "    </tr>\n",
       "    <tr>\n",
       "      <th>4</th>\n",
       "      <td>D07-12-16-0002</td>\n",
       "      <td>2016-01-04</td>\n",
       "      <td>Site Plan Control</td>\n",
       "      <td>774</td>\n",
       "      <td>BRONSON</td>\n",
       "      <td>Avenue</td>\n",
       "      <td>Application File Pending</td>\n",
       "      <td>File Pending</td>\n",
       "      <td>Steve Gauthier</td>\n",
       "      <td>12-storey mixed-use building for university st...</td>\n",
       "      <td>2017-12-31 15:52</td>\n",
       "      <td>Ward 17</td>\n",
       "      <td>CAPITAL</td>\n",
       "    </tr>\n",
       "    <tr>\n",
       "      <th>...</th>\n",
       "      <td>...</td>\n",
       "      <td>...</td>\n",
       "      <td>...</td>\n",
       "      <td>...</td>\n",
       "      <td>...</td>\n",
       "      <td>...</td>\n",
       "      <td>...</td>\n",
       "      <td>...</td>\n",
       "      <td>...</td>\n",
       "      <td>...</td>\n",
       "      <td>...</td>\n",
       "      <td>...</td>\n",
       "      <td>...</td>\n",
       "    </tr>\n",
       "    <tr>\n",
       "      <th>2041</th>\n",
       "      <td>D07-12-24-0139</td>\n",
       "      <td>2024-10-30</td>\n",
       "      <td>Site Plan Control</td>\n",
       "      <td>99</td>\n",
       "      <td>BILL LEATHEM</td>\n",
       "      <td>Drive</td>\n",
       "      <td>Initial Review Comments Sent</td>\n",
       "      <td>Active</td>\n",
       "      <td>Krishon Walker</td>\n",
       "      <td>A Site Plan Control application to construct a...</td>\n",
       "      <td>2024-11-18 15:25</td>\n",
       "      <td>Ward 24</td>\n",
       "      <td>BARRHAVEN EAST</td>\n",
       "    </tr>\n",
       "    <tr>\n",
       "      <th>2042</th>\n",
       "      <td>D07-12-24-0139</td>\n",
       "      <td>2024-10-30</td>\n",
       "      <td>Site Plan Control</td>\n",
       "      <td>2</td>\n",
       "      <td>LEIKIN</td>\n",
       "      <td>Drive</td>\n",
       "      <td>Initial Review Comments Sent</td>\n",
       "      <td>Active</td>\n",
       "      <td>Krishon Walker</td>\n",
       "      <td>A Site Plan Control application to construct a...</td>\n",
       "      <td>2024-11-18 15:25</td>\n",
       "      <td>Ward 24</td>\n",
       "      <td>BARRHAVEN EAST</td>\n",
       "    </tr>\n",
       "    <tr>\n",
       "      <th>2043</th>\n",
       "      <td>D07-12-24-0139</td>\n",
       "      <td>2024-10-30</td>\n",
       "      <td>Site Plan Control</td>\n",
       "      <td>20</td>\n",
       "      <td>LEIKIN</td>\n",
       "      <td>Drive</td>\n",
       "      <td>Initial Review Comments Sent</td>\n",
       "      <td>Active</td>\n",
       "      <td>Krishon Walker</td>\n",
       "      <td>A Site Plan Control application to construct a...</td>\n",
       "      <td>2024-11-18 15:25</td>\n",
       "      <td>Ward 24</td>\n",
       "      <td>BARRHAVEN EAST</td>\n",
       "    </tr>\n",
       "    <tr>\n",
       "      <th>2044</th>\n",
       "      <td>D09-04-24-0070</td>\n",
       "      <td>2024-11-13</td>\n",
       "      <td>Ontario Heritage Act</td>\n",
       "      <td>79</td>\n",
       "      <td>GUIGUES</td>\n",
       "      <td>Avenue</td>\n",
       "      <td>Report in Progress</td>\n",
       "      <td>Active</td>\n",
       "      <td>Anne Fitzpatrick</td>\n",
       "      <td>Application to demolish 79 Guigues, a contibut...</td>\n",
       "      <td>2024-11-20 10:03</td>\n",
       "      <td>Ward 12</td>\n",
       "      <td>RIDEAU-VANIER</td>\n",
       "    </tr>\n",
       "    <tr>\n",
       "      <th>2045</th>\n",
       "      <td>D09-04-24-0070</td>\n",
       "      <td>2024-11-13</td>\n",
       "      <td>Ontario Heritage Act</td>\n",
       "      <td>79</td>\n",
       "      <td>GUIGUES</td>\n",
       "      <td>Avenue</td>\n",
       "      <td>Report in Progress</td>\n",
       "      <td>Active</td>\n",
       "      <td>Anne Fitzpatrick</td>\n",
       "      <td>Application to demolish 79 Guigues, a contibut...</td>\n",
       "      <td>2024-11-20 10:03</td>\n",
       "      <td>Ward 12</td>\n",
       "      <td>RIDEAU-VANIER</td>\n",
       "    </tr>\n",
       "  </tbody>\n",
       "</table>\n",
       "<p>2046 rows × 13 columns</p>\n",
       "</div>"
      ],
      "text/plain": [
       "     Application Number Application Date      Application Type  \\\n",
       "0        D07-05-16-0003       2016-06-20    Demolition Control   \n",
       "1        D07-05-15-0008       2015-12-14    Demolition Control   \n",
       "2        D07-05-15-0008       2015-12-14    Demolition Control   \n",
       "3        D07-16-15-0015       2015-12-30   Plan of Subdivision   \n",
       "4        D07-12-16-0002       2016-01-04     Site Plan Control   \n",
       "...                 ...              ...                   ...   \n",
       "2041     D07-12-24-0139       2024-10-30     Site Plan Control   \n",
       "2042     D07-12-24-0139       2024-10-30     Site Plan Control   \n",
       "2043     D07-12-24-0139       2024-10-30     Site Plan Control   \n",
       "2044     D09-04-24-0070       2024-11-13  Ontario Heritage Act   \n",
       "2045     D09-04-24-0070       2024-11-13  Ontario Heritage Act   \n",
       "\n",
       "      Address Number     Road Name Road Type  \\\n",
       "0                101    WURTEMBURG    Street   \n",
       "1                163      PARKDALE    Avenue   \n",
       "2                167      PARKDALE    Avenue   \n",
       "3               1626  OLD PRESCOTT      Road   \n",
       "4                774       BRONSON    Avenue   \n",
       "...              ...           ...       ...   \n",
       "2041              99  BILL LEATHEM     Drive   \n",
       "2042               2        LEIKIN     Drive   \n",
       "2043              20        LEIKIN     Drive   \n",
       "2044              79       GUIGUES    Avenue   \n",
       "2045              79       GUIGUES    Avenue   \n",
       "\n",
       "                                     Object Status Type Application Status  \\\n",
       "0                                      Agreement Signed      Post Approval   \n",
       "1     Agreement Registered - Final Legal Clearance G...      Post Approval   \n",
       "2     Agreement Registered - Final Legal Clearance G...      Post Approval   \n",
       "3                              Application File Pending       File Pending   \n",
       "4                              Application File Pending       File Pending   \n",
       "...                                                 ...                ...   \n",
       "2041                       Initial Review Comments Sent             Active   \n",
       "2042                       Initial Review Comments Sent             Active   \n",
       "2043                       Initial Review Comments Sent             Active   \n",
       "2044                                 Report in Progress             Active   \n",
       "2045                                 Report in Progress             Active   \n",
       "\n",
       "                File Lead                                  Brief Description  \\\n",
       "0           Douglas James  The application for demolition control propose...   \n",
       "1     Tracey Scaramozzino  An application for Demolition Control for the ...   \n",
       "2     Tracey Scaramozzino  An application for Demolition Control for the ...   \n",
       "3       Cheryl Mcwilliams  The proposed plan of subdivision comprises pha...   \n",
       "4          Steve Gauthier  12-storey mixed-use building for university st...   \n",
       "...                   ...                                                ...   \n",
       "2041       Krishon Walker  A Site Plan Control application to construct a...   \n",
       "2042       Krishon Walker  A Site Plan Control application to construct a...   \n",
       "2043       Krishon Walker  A Site Plan Control application to construct a...   \n",
       "2044     Anne Fitzpatrick  Application to demolish 79 Guigues, a contibut...   \n",
       "2045     Anne Fitzpatrick  Application to demolish 79 Guigues, a contibut...   \n",
       "\n",
       "     Object Status Date   Ward #            Ward  \n",
       "0      2016-09-26 15:21  Ward 12   RIDEAU-VANIER  \n",
       "1      2018-09-25 09:49  Ward 15    KITCHISSIPPI  \n",
       "2      2018-09-25 09:49  Ward 15    KITCHISSIPPI  \n",
       "3      2016-03-17 09:48  Ward 20         OSGOODE  \n",
       "4      2017-12-31 15:52  Ward 17         CAPITAL  \n",
       "...                 ...      ...             ...  \n",
       "2041   2024-11-18 15:25  Ward 24  BARRHAVEN EAST  \n",
       "2042   2024-11-18 15:25  Ward 24  BARRHAVEN EAST  \n",
       "2043   2024-11-18 15:25  Ward 24  BARRHAVEN EAST  \n",
       "2044   2024-11-20 10:03  Ward 12   RIDEAU-VANIER  \n",
       "2045   2024-11-20 10:03  Ward 12   RIDEAU-VANIER  \n",
       "\n",
       "[2046 rows x 13 columns]"
      ]
     },
     "execution_count": 3,
     "metadata": {},
     "output_type": "execute_result"
    }
   ],
   "source": [
    "df"
   ]
  },
  {
   "cell_type": "code",
   "execution_count": 9,
   "metadata": {
    "vscode": {
     "languageId": "ruby"
    }
   },
   "outputs": [
    {
     "name": "stdout",
     "output_type": "stream",
     "text": [
      "101 WURTEMBURG Street\n",
      "Geocoding address 1 of 20\n",
      "101 WURTEMBURG Street\n",
      "Wurtemburg Street, Sandy Hill, Rideau-Vanier, Ottawa, Eastern Ontario, Ontario, K1N 8Z7, Canada\n",
      "loc (45.434625433150124, -75.67603581966213)\n",
      "163 PARKDALE Avenue\n",
      "Geocoding address 2 of 20\n",
      "163 PARKDALE Avenue\n",
      "163, Parkdale Avenue, Tunney's Pasture, Hintonburg, Kitchissippi, Ottawa, Eastern Ontario, Ontario, K1Y 4V8, Canada\n",
      "loc (45.4070411, -75.7326098)\n",
      "167 PARKDALE Avenue\n",
      "Geocoding address 3 of 20\n",
      "167 PARKDALE Avenue\n",
      "167, Parkdale Avenue, Tunney's Pasture, Hintonburg, Kitchissippi, Ottawa, Eastern Ontario, Ontario, K1Y 4V8, Canada\n",
      "loc (45.40706295, -75.73255427998953)\n",
      "1626 OLD PRESCOTT Road\n",
      "Geocoding address 4 of 20\n",
      "1626 OLD PRESCOTT Road\n",
      "1626, Old Prescott Road, Osgoode, Ottawa, Eastern Ontario, Ontario, K4P 1A9, Canada\n",
      "loc (45.2495828, -75.5639541)\n",
      "774 BRONSON Avenue\n",
      "Geocoding address 5 of 20\n",
      "774 BRONSON Avenue\n",
      "774, Bronson Avenue, The Glebe, Capital, Ottawa, Eastern Ontario, Ontario, K1S 4G2, Canada\n",
      "loc (45.400403, -75.6996055)\n",
      "557 CAMBRIDGE Street\n",
      "Geocoding address 6 of 20\n",
      "557 CAMBRIDGE Street\n",
      "557, Cambridge Street, Allston Heights, Allston, Boston, Suffolk County, Massachusetts, 02134, United States\n",
      "loc (42.3528816, -71.1400708)\n",
      "3315 SHEA Road\n",
      "Geocoding address 7 of 20\n",
      "3315 SHEA Road\n",
      "3315, Shea Road, Collierville, Shelby County, West Tennessee, Tennessee, 38017, United States\n",
      "loc (35.05822520931653, -89.71199248577328)\n",
      "261 KING EDWARD Avenue\n",
      "Geocoding address 8 of 20\n",
      "261 KING EDWARD Avenue\n",
      "261, King Edward Avenue, Byward Market, Lowertown, Rideau-Vanier, Ottawa, Eastern Ontario, Ontario, K1N 5T7, Canada\n",
      "loc (45.431725, -75.6878775)\n",
      "261 KING EDWARD Avenue\n",
      "Geocoding address 9 of 20\n",
      "261 KING EDWARD Avenue\n",
      "261, King Edward Avenue, Byward Market, Lowertown, Rideau-Vanier, Ottawa, Eastern Ontario, Ontario, K1N 5T7, Canada\n",
      "loc (45.431725, -75.6878775)\n",
      "261 KING EDWARD Avenue\n",
      "Geocoding address 10 of 20\n",
      "261 KING EDWARD Avenue\n",
      "261, King Edward Avenue, Byward Market, Lowertown, Rideau-Vanier, Ottawa, Eastern Ontario, Ontario, K1N 5T7, Canada\n",
      "loc (45.431725, -75.6878775)\n",
      "261 KING EDWARD Avenue\n",
      "Geocoding address 11 of 20\n",
      "261 KING EDWARD Avenue\n",
      "261, King Edward Avenue, Byward Market, Lowertown, Rideau-Vanier, Ottawa, Eastern Ontario, Ontario, K1N 5T7, Canada\n",
      "loc (45.431725, -75.6878775)\n",
      "269 KING EDWARD Avenue\n",
      "Geocoding address 12 of 20\n",
      "269 KING EDWARD Avenue\n",
      "269, King Edward Avenue, Byward Market, Lowertown, Rideau-Vanier, Ottawa, Eastern Ontario, Ontario, K1N 5T7, Canada\n",
      "loc (45.4316036, -75.6877474)\n",
      "269 KING EDWARD Avenue\n",
      "Geocoding address 13 of 20\n",
      "269 KING EDWARD Avenue\n",
      "269, King Edward Avenue, Byward Market, Lowertown, Rideau-Vanier, Ottawa, Eastern Ontario, Ontario, K1N 5T7, Canada\n",
      "loc (45.4316036, -75.6877474)\n",
      "269 KING EDWARD Avenue\n",
      "Geocoding address 14 of 20\n",
      "269 KING EDWARD Avenue\n",
      "269, King Edward Avenue, Byward Market, Lowertown, Rideau-Vanier, Ottawa, Eastern Ontario, Ontario, K1N 5T7, Canada\n",
      "loc (45.4316036, -75.6877474)\n",
      "269 KING EDWARD Avenue\n",
      "Geocoding address 15 of 20\n",
      "269 KING EDWARD Avenue\n",
      "269, King Edward Avenue, Byward Market, Lowertown, Rideau-Vanier, Ottawa, Eastern Ontario, Ontario, K1N 5T7, Canada\n",
      "loc (45.4316036, -75.6877474)\n",
      "277 KING EDWARD Avenue\n",
      "Geocoding address 16 of 20\n",
      "277 KING EDWARD Avenue\n",
      "277, King Edward Avenue, Byward Market, Lowertown, Rideau-Vanier, Ottawa, Eastern Ontario, Ontario, K1N 5T7, Canada\n",
      "loc (45.4315029, -75.6876522)\n",
      "277 KING EDWARD Avenue\n",
      "Geocoding address 17 of 20\n",
      "277 KING EDWARD Avenue\n",
      "277, King Edward Avenue, Byward Market, Lowertown, Rideau-Vanier, Ottawa, Eastern Ontario, Ontario, K1N 5T7, Canada\n",
      "loc (45.4315029, -75.6876522)\n",
      "277 KING EDWARD Avenue\n",
      "Geocoding address 18 of 20\n",
      "277 KING EDWARD Avenue\n",
      "277, King Edward Avenue, Byward Market, Lowertown, Rideau-Vanier, Ottawa, Eastern Ontario, Ontario, K1N 5T7, Canada\n",
      "loc (45.4315029, -75.6876522)\n",
      "277 KING EDWARD Avenue\n",
      "Geocoding address 19 of 20\n",
      "277 KING EDWARD Avenue\n",
      "277, King Edward Avenue, Byward Market, Lowertown, Rideau-Vanier, Ottawa, Eastern Ontario, Ontario, K1N 5T7, Canada\n",
      "loc (45.4315029, -75.6876522)\n",
      "260 MURRAY Street\n",
      "Geocoding address 20 of 20\n",
      "260 MURRAY Street\n",
      "260, Murray Street, Beauséjour Community, Lowertown, Rideau-Vanier, Ottawa, Eastern Ontario, Ontario, K1N 9G5, Canada\n",
      "loc (45.4319368, -75.6877364763796)\n",
      "260 MURRAY Street\n",
      "Geocoding address 21 of 20\n"
     ]
    },
    {
     "data": {
      "application/vnd.plotly.v1+json": {
       "config": {
        "plotlyServerURL": "https://plot.ly"
       },
       "data": [
        {
         "customdata": [
          [
           "Demolition Control",
           "Post Approval",
           "Douglas James",
           "The application for demolition control proposes to demolish an existing, unoccupied two-storey residential dwelling at 101 Wurtemburg Street."
          ],
          [
           "Demolition Control",
           "Post Approval",
           "Tracey Scaramozzino",
           "An application for Demolition Control for the property located at 163-167 Parkdale Avenue. The site is currently occupied by two vacant residential and commercial buildings. The total site area is approximately 1,373.6 square metres."
          ],
          [
           "Demolition Control",
           "Post Approval",
           "Tracey Scaramozzino",
           "An application for Demolition Control for the property located at 163-167 Parkdale Avenue. The site is currently occupied by two vacant residential and commercial buildings. The total site area is approximately 1,373.6 square metres."
          ],
          [
           "Plan of Subdivision",
           "Post Approval",
           "Sarah Mccormick",
           "54 single detached lot subdivision on a new public street"
          ]
         ],
         "hovertemplate": "<b>%{hovertext}</b><br><br>Application Status=%{customdata[1]}<br>Latitude=%{lat}<br>Longitude=%{lon}<br>Application Type=%{customdata[0]}<br>File Lead=%{customdata[2]}<br>Brief Description=%{customdata[3]}<extra></extra>",
         "hovertext": [
          "D07-05-16-0003",
          "D07-05-15-0008",
          "D07-05-15-0008",
          "D07-16-16-0003"
         ],
         "lat": [
          45.434625433150124,
          45.4070411,
          45.40706295,
          35.05822520931653
         ],
         "legendgroup": "Post Approval",
         "lon": [
          -75.67603581966213,
          -75.7326098,
          -75.73255427998953,
          -89.71199248577328
         ],
         "marker": {
          "color": "#636efa"
         },
         "mode": "markers",
         "name": "Post Approval",
         "showlegend": true,
         "subplot": "mapbox",
         "type": "scattermapbox"
        },
        {
         "customdata": [
          [
           "Plan of Subdivision",
           "File Pending",
           "Cheryl Mcwilliams",
           "The proposed plan of subdivision comprises phase 2 of a draft approved subdivision (Lakeland Meadows Phase I).  Lakeland Meadows Phase I is made up of 34 residential lots averaging 0.3 hectares in lot size, and serviced through private on-site water (well) and wastewater (septic).  Phase II differs from Phase I in that the servicing is proposed to be provided through an existing communal water and wastewater system within the adjacent subdivision lands to the immediate south (Shadow Ridge)."
          ],
          [
           "Site Plan Control",
           "File Pending",
           "Steve Gauthier",
           "12-storey mixed-use building for university students and retail at grade."
          ],
          [
           "Site Plan Control",
           "File Pending",
           "Steve Gauthier",
           "12-storey mixed-use building for university students and retail at grade."
          ],
          [
           "Site Plan Control",
           "File Pending",
           "Erin O'Connell",
           "Part of Lots B and 7 North Clarence Street (formerly Parry Street) on Registered Plan 43586, in the City of Ottawa.  The site is currently vacant."
          ],
          [
           "Site Plan Control",
           "File Pending",
           "Erin O'Connell",
           "Part of Lots B and 7 North Clarence Street (formerly Parry Street) on Registered Plan 43586, in the City of Ottawa.  The site is currently vacant."
          ],
          [
           "Site Plan Control",
           "File Pending",
           "Erin O'Connell",
           "Part of Lots B and 7 North Clarence Street (formerly Parry Street) on Registered Plan 43586, in the City of Ottawa.  The site is currently vacant."
          ],
          [
           "Site Plan Control",
           "File Pending",
           "Erin O'Connell",
           "Part of Lots B and 7 North Clarence Street (formerly Parry Street) on Registered Plan 43586, in the City of Ottawa.  The site is currently vacant."
          ],
          [
           "Site Plan Control",
           "File Pending",
           "Erin O'Connell",
           "Part of Lots B and 7 North Clarence Street (formerly Parry Street) on Registered Plan 43586, in the City of Ottawa.  The site is currently vacant."
          ],
          [
           "Site Plan Control",
           "File Pending",
           "Erin O'Connell",
           "Part of Lots B and 7 North Clarence Street (formerly Parry Street) on Registered Plan 43586, in the City of Ottawa.  The site is currently vacant."
          ],
          [
           "Site Plan Control",
           "File Pending",
           "Erin O'Connell",
           "Part of Lots B and 7 North Clarence Street (formerly Parry Street) on Registered Plan 43586, in the City of Ottawa.  The site is currently vacant."
          ],
          [
           "Site Plan Control",
           "File Pending",
           "Erin O'Connell",
           "Part of Lots B and 7 North Clarence Street (formerly Parry Street) on Registered Plan 43586, in the City of Ottawa.  The site is currently vacant."
          ],
          [
           "Site Plan Control",
           "File Pending",
           "Erin O'Connell",
           "Part of Lots B and 7 North Clarence Street (formerly Parry Street) on Registered Plan 43586, in the City of Ottawa.  The site is currently vacant."
          ],
          [
           "Site Plan Control",
           "File Pending",
           "Erin O'Connell",
           "Part of Lots B and 7 North Clarence Street (formerly Parry Street) on Registered Plan 43586, in the City of Ottawa.  The site is currently vacant."
          ],
          [
           "Site Plan Control",
           "File Pending",
           "Erin O'Connell",
           "Part of Lots B and 7 North Clarence Street (formerly Parry Street) on Registered Plan 43586, in the City of Ottawa.  The site is currently vacant."
          ],
          [
           "Site Plan Control",
           "File Pending",
           "Erin O'Connell",
           "Part of Lots B and 7 North Clarence Street (formerly Parry Street) on Registered Plan 43586, in the City of Ottawa.  The site is currently vacant."
          ],
          [
           "Site Plan Control",
           "File Pending",
           "Erin O'Connell",
           "Part of Lots B and 7 North Clarence Street (formerly Parry Street) on Registered Plan 43586, in the City of Ottawa.  The site is currently vacant."
          ]
         ],
         "hovertemplate": "<b>%{hovertext}</b><br><br>Application Status=%{customdata[1]}<br>Latitude=%{lat}<br>Longitude=%{lon}<br>Application Type=%{customdata[0]}<br>File Lead=%{customdata[2]}<br>Brief Description=%{customdata[3]}<extra></extra>",
         "hovertext": [
          "D07-16-15-0015",
          "D07-12-16-0002",
          "D07-12-16-0002",
          "D07-12-16-0045",
          "D07-12-16-0045",
          "D07-12-16-0045",
          "D07-12-16-0045",
          "D07-12-16-0045",
          "D07-12-16-0045",
          "D07-12-16-0045",
          "D07-12-16-0045",
          "D07-12-16-0045",
          "D07-12-16-0045",
          "D07-12-16-0045",
          "D07-12-16-0045",
          "D07-12-16-0045"
         ],
         "lat": [
          45.2495828,
          45.400403,
          42.3528816,
          45.431725,
          45.431725,
          45.431725,
          45.431725,
          45.4316036,
          45.4316036,
          45.4316036,
          45.4316036,
          45.4315029,
          45.4315029,
          45.4315029,
          45.4315029,
          45.4319368
         ],
         "legendgroup": "File Pending",
         "lon": [
          -75.5639541,
          -75.6996055,
          -71.1400708,
          -75.6878775,
          -75.6878775,
          -75.6878775,
          -75.6878775,
          -75.6877474,
          -75.6877474,
          -75.6877474,
          -75.6877474,
          -75.6876522,
          -75.6876522,
          -75.6876522,
          -75.6876522,
          -75.6877364763796
         ],
         "marker": {
          "color": "#EF553B"
         },
         "mode": "markers",
         "name": "File Pending",
         "showlegend": true,
         "subplot": "mapbox",
         "type": "scattermapbox"
        }
       ],
       "layout": {
        "height": 600,
        "legend": {
         "title": {
          "text": "Application Status"
         },
         "tracegroupgap": 0
        },
        "mapbox": {
         "center": {
          "lat": 44.74605424462333,
          "lon": -76.15988338309023
         },
         "domain": {
          "x": [
           0,
           1
          ],
          "y": [
           0,
           1
          ]
         },
         "style": "open-street-map",
         "zoom": 10
        },
        "margin": {
         "b": 0,
         "l": 0,
         "r": 0,
         "t": 0
        },
        "template": {
         "data": {
          "bar": [
           {
            "error_x": {
             "color": "#2a3f5f"
            },
            "error_y": {
             "color": "#2a3f5f"
            },
            "marker": {
             "line": {
              "color": "#E5ECF6",
              "width": 0.5
             },
             "pattern": {
              "fillmode": "overlay",
              "size": 10,
              "solidity": 0.2
             }
            },
            "type": "bar"
           }
          ],
          "barpolar": [
           {
            "marker": {
             "line": {
              "color": "#E5ECF6",
              "width": 0.5
             },
             "pattern": {
              "fillmode": "overlay",
              "size": 10,
              "solidity": 0.2
             }
            },
            "type": "barpolar"
           }
          ],
          "carpet": [
           {
            "aaxis": {
             "endlinecolor": "#2a3f5f",
             "gridcolor": "white",
             "linecolor": "white",
             "minorgridcolor": "white",
             "startlinecolor": "#2a3f5f"
            },
            "baxis": {
             "endlinecolor": "#2a3f5f",
             "gridcolor": "white",
             "linecolor": "white",
             "minorgridcolor": "white",
             "startlinecolor": "#2a3f5f"
            },
            "type": "carpet"
           }
          ],
          "choropleth": [
           {
            "colorbar": {
             "outlinewidth": 0,
             "ticks": ""
            },
            "type": "choropleth"
           }
          ],
          "contour": [
           {
            "colorbar": {
             "outlinewidth": 0,
             "ticks": ""
            },
            "colorscale": [
             [
              0,
              "#0d0887"
             ],
             [
              0.1111111111111111,
              "#46039f"
             ],
             [
              0.2222222222222222,
              "#7201a8"
             ],
             [
              0.3333333333333333,
              "#9c179e"
             ],
             [
              0.4444444444444444,
              "#bd3786"
             ],
             [
              0.5555555555555556,
              "#d8576b"
             ],
             [
              0.6666666666666666,
              "#ed7953"
             ],
             [
              0.7777777777777778,
              "#fb9f3a"
             ],
             [
              0.8888888888888888,
              "#fdca26"
             ],
             [
              1,
              "#f0f921"
             ]
            ],
            "type": "contour"
           }
          ],
          "contourcarpet": [
           {
            "colorbar": {
             "outlinewidth": 0,
             "ticks": ""
            },
            "type": "contourcarpet"
           }
          ],
          "heatmap": [
           {
            "colorbar": {
             "outlinewidth": 0,
             "ticks": ""
            },
            "colorscale": [
             [
              0,
              "#0d0887"
             ],
             [
              0.1111111111111111,
              "#46039f"
             ],
             [
              0.2222222222222222,
              "#7201a8"
             ],
             [
              0.3333333333333333,
              "#9c179e"
             ],
             [
              0.4444444444444444,
              "#bd3786"
             ],
             [
              0.5555555555555556,
              "#d8576b"
             ],
             [
              0.6666666666666666,
              "#ed7953"
             ],
             [
              0.7777777777777778,
              "#fb9f3a"
             ],
             [
              0.8888888888888888,
              "#fdca26"
             ],
             [
              1,
              "#f0f921"
             ]
            ],
            "type": "heatmap"
           }
          ],
          "heatmapgl": [
           {
            "colorbar": {
             "outlinewidth": 0,
             "ticks": ""
            },
            "colorscale": [
             [
              0,
              "#0d0887"
             ],
             [
              0.1111111111111111,
              "#46039f"
             ],
             [
              0.2222222222222222,
              "#7201a8"
             ],
             [
              0.3333333333333333,
              "#9c179e"
             ],
             [
              0.4444444444444444,
              "#bd3786"
             ],
             [
              0.5555555555555556,
              "#d8576b"
             ],
             [
              0.6666666666666666,
              "#ed7953"
             ],
             [
              0.7777777777777778,
              "#fb9f3a"
             ],
             [
              0.8888888888888888,
              "#fdca26"
             ],
             [
              1,
              "#f0f921"
             ]
            ],
            "type": "heatmapgl"
           }
          ],
          "histogram": [
           {
            "marker": {
             "pattern": {
              "fillmode": "overlay",
              "size": 10,
              "solidity": 0.2
             }
            },
            "type": "histogram"
           }
          ],
          "histogram2d": [
           {
            "colorbar": {
             "outlinewidth": 0,
             "ticks": ""
            },
            "colorscale": [
             [
              0,
              "#0d0887"
             ],
             [
              0.1111111111111111,
              "#46039f"
             ],
             [
              0.2222222222222222,
              "#7201a8"
             ],
             [
              0.3333333333333333,
              "#9c179e"
             ],
             [
              0.4444444444444444,
              "#bd3786"
             ],
             [
              0.5555555555555556,
              "#d8576b"
             ],
             [
              0.6666666666666666,
              "#ed7953"
             ],
             [
              0.7777777777777778,
              "#fb9f3a"
             ],
             [
              0.8888888888888888,
              "#fdca26"
             ],
             [
              1,
              "#f0f921"
             ]
            ],
            "type": "histogram2d"
           }
          ],
          "histogram2dcontour": [
           {
            "colorbar": {
             "outlinewidth": 0,
             "ticks": ""
            },
            "colorscale": [
             [
              0,
              "#0d0887"
             ],
             [
              0.1111111111111111,
              "#46039f"
             ],
             [
              0.2222222222222222,
              "#7201a8"
             ],
             [
              0.3333333333333333,
              "#9c179e"
             ],
             [
              0.4444444444444444,
              "#bd3786"
             ],
             [
              0.5555555555555556,
              "#d8576b"
             ],
             [
              0.6666666666666666,
              "#ed7953"
             ],
             [
              0.7777777777777778,
              "#fb9f3a"
             ],
             [
              0.8888888888888888,
              "#fdca26"
             ],
             [
              1,
              "#f0f921"
             ]
            ],
            "type": "histogram2dcontour"
           }
          ],
          "mesh3d": [
           {
            "colorbar": {
             "outlinewidth": 0,
             "ticks": ""
            },
            "type": "mesh3d"
           }
          ],
          "parcoords": [
           {
            "line": {
             "colorbar": {
              "outlinewidth": 0,
              "ticks": ""
             }
            },
            "type": "parcoords"
           }
          ],
          "pie": [
           {
            "automargin": true,
            "type": "pie"
           }
          ],
          "scatter": [
           {
            "fillpattern": {
             "fillmode": "overlay",
             "size": 10,
             "solidity": 0.2
            },
            "type": "scatter"
           }
          ],
          "scatter3d": [
           {
            "line": {
             "colorbar": {
              "outlinewidth": 0,
              "ticks": ""
             }
            },
            "marker": {
             "colorbar": {
              "outlinewidth": 0,
              "ticks": ""
             }
            },
            "type": "scatter3d"
           }
          ],
          "scattercarpet": [
           {
            "marker": {
             "colorbar": {
              "outlinewidth": 0,
              "ticks": ""
             }
            },
            "type": "scattercarpet"
           }
          ],
          "scattergeo": [
           {
            "marker": {
             "colorbar": {
              "outlinewidth": 0,
              "ticks": ""
             }
            },
            "type": "scattergeo"
           }
          ],
          "scattergl": [
           {
            "marker": {
             "colorbar": {
              "outlinewidth": 0,
              "ticks": ""
             }
            },
            "type": "scattergl"
           }
          ],
          "scattermapbox": [
           {
            "marker": {
             "colorbar": {
              "outlinewidth": 0,
              "ticks": ""
             }
            },
            "type": "scattermapbox"
           }
          ],
          "scatterpolar": [
           {
            "marker": {
             "colorbar": {
              "outlinewidth": 0,
              "ticks": ""
             }
            },
            "type": "scatterpolar"
           }
          ],
          "scatterpolargl": [
           {
            "marker": {
             "colorbar": {
              "outlinewidth": 0,
              "ticks": ""
             }
            },
            "type": "scatterpolargl"
           }
          ],
          "scatterternary": [
           {
            "marker": {
             "colorbar": {
              "outlinewidth": 0,
              "ticks": ""
             }
            },
            "type": "scatterternary"
           }
          ],
          "surface": [
           {
            "colorbar": {
             "outlinewidth": 0,
             "ticks": ""
            },
            "colorscale": [
             [
              0,
              "#0d0887"
             ],
             [
              0.1111111111111111,
              "#46039f"
             ],
             [
              0.2222222222222222,
              "#7201a8"
             ],
             [
              0.3333333333333333,
              "#9c179e"
             ],
             [
              0.4444444444444444,
              "#bd3786"
             ],
             [
              0.5555555555555556,
              "#d8576b"
             ],
             [
              0.6666666666666666,
              "#ed7953"
             ],
             [
              0.7777777777777778,
              "#fb9f3a"
             ],
             [
              0.8888888888888888,
              "#fdca26"
             ],
             [
              1,
              "#f0f921"
             ]
            ],
            "type": "surface"
           }
          ],
          "table": [
           {
            "cells": {
             "fill": {
              "color": "#EBF0F8"
             },
             "line": {
              "color": "white"
             }
            },
            "header": {
             "fill": {
              "color": "#C8D4E3"
             },
             "line": {
              "color": "white"
             }
            },
            "type": "table"
           }
          ]
         },
         "layout": {
          "annotationdefaults": {
           "arrowcolor": "#2a3f5f",
           "arrowhead": 0,
           "arrowwidth": 1
          },
          "autotypenumbers": "strict",
          "coloraxis": {
           "colorbar": {
            "outlinewidth": 0,
            "ticks": ""
           }
          },
          "colorscale": {
           "diverging": [
            [
             0,
             "#8e0152"
            ],
            [
             0.1,
             "#c51b7d"
            ],
            [
             0.2,
             "#de77ae"
            ],
            [
             0.3,
             "#f1b6da"
            ],
            [
             0.4,
             "#fde0ef"
            ],
            [
             0.5,
             "#f7f7f7"
            ],
            [
             0.6,
             "#e6f5d0"
            ],
            [
             0.7,
             "#b8e186"
            ],
            [
             0.8,
             "#7fbc41"
            ],
            [
             0.9,
             "#4d9221"
            ],
            [
             1,
             "#276419"
            ]
           ],
           "sequential": [
            [
             0,
             "#0d0887"
            ],
            [
             0.1111111111111111,
             "#46039f"
            ],
            [
             0.2222222222222222,
             "#7201a8"
            ],
            [
             0.3333333333333333,
             "#9c179e"
            ],
            [
             0.4444444444444444,
             "#bd3786"
            ],
            [
             0.5555555555555556,
             "#d8576b"
            ],
            [
             0.6666666666666666,
             "#ed7953"
            ],
            [
             0.7777777777777778,
             "#fb9f3a"
            ],
            [
             0.8888888888888888,
             "#fdca26"
            ],
            [
             1,
             "#f0f921"
            ]
           ],
           "sequentialminus": [
            [
             0,
             "#0d0887"
            ],
            [
             0.1111111111111111,
             "#46039f"
            ],
            [
             0.2222222222222222,
             "#7201a8"
            ],
            [
             0.3333333333333333,
             "#9c179e"
            ],
            [
             0.4444444444444444,
             "#bd3786"
            ],
            [
             0.5555555555555556,
             "#d8576b"
            ],
            [
             0.6666666666666666,
             "#ed7953"
            ],
            [
             0.7777777777777778,
             "#fb9f3a"
            ],
            [
             0.8888888888888888,
             "#fdca26"
            ],
            [
             1,
             "#f0f921"
            ]
           ]
          },
          "colorway": [
           "#636efa",
           "#EF553B",
           "#00cc96",
           "#ab63fa",
           "#FFA15A",
           "#19d3f3",
           "#FF6692",
           "#B6E880",
           "#FF97FF",
           "#FECB52"
          ],
          "font": {
           "color": "#2a3f5f"
          },
          "geo": {
           "bgcolor": "white",
           "lakecolor": "white",
           "landcolor": "#E5ECF6",
           "showlakes": true,
           "showland": true,
           "subunitcolor": "white"
          },
          "hoverlabel": {
           "align": "left"
          },
          "hovermode": "closest",
          "mapbox": {
           "style": "light"
          },
          "paper_bgcolor": "white",
          "plot_bgcolor": "#E5ECF6",
          "polar": {
           "angularaxis": {
            "gridcolor": "white",
            "linecolor": "white",
            "ticks": ""
           },
           "bgcolor": "#E5ECF6",
           "radialaxis": {
            "gridcolor": "white",
            "linecolor": "white",
            "ticks": ""
           }
          },
          "scene": {
           "xaxis": {
            "backgroundcolor": "#E5ECF6",
            "gridcolor": "white",
            "gridwidth": 2,
            "linecolor": "white",
            "showbackground": true,
            "ticks": "",
            "zerolinecolor": "white"
           },
           "yaxis": {
            "backgroundcolor": "#E5ECF6",
            "gridcolor": "white",
            "gridwidth": 2,
            "linecolor": "white",
            "showbackground": true,
            "ticks": "",
            "zerolinecolor": "white"
           },
           "zaxis": {
            "backgroundcolor": "#E5ECF6",
            "gridcolor": "white",
            "gridwidth": 2,
            "linecolor": "white",
            "showbackground": true,
            "ticks": "",
            "zerolinecolor": "white"
           }
          },
          "shapedefaults": {
           "line": {
            "color": "#2a3f5f"
           }
          },
          "ternary": {
           "aaxis": {
            "gridcolor": "white",
            "linecolor": "white",
            "ticks": ""
           },
           "baxis": {
            "gridcolor": "white",
            "linecolor": "white",
            "ticks": ""
           },
           "bgcolor": "#E5ECF6",
           "caxis": {
            "gridcolor": "white",
            "linecolor": "white",
            "ticks": ""
           }
          },
          "title": {
           "x": 0.05
          },
          "xaxis": {
           "automargin": true,
           "gridcolor": "white",
           "linecolor": "white",
           "ticks": "",
           "title": {
            "standoff": 15
           },
           "zerolinecolor": "white",
           "zerolinewidth": 2
          },
          "yaxis": {
           "automargin": true,
           "gridcolor": "white",
           "linecolor": "white",
           "ticks": "",
           "title": {
            "standoff": 15
           },
           "zerolinecolor": "white",
           "zerolinewidth": 2
          }
         }
        }
       }
      }
     },
     "metadata": {},
     "output_type": "display_data"
    }
   ],
   "source": [
    "\n",
    "import pandas as pd\n",
    "import openpyxl\n",
    "\n",
    "\n",
    "from geopy.geocoders import Nominatim\n",
    "import pandas as pd\n",
    "import plotly.express as px\n",
    "import os\n",
    "import certifi\n",
    "from geopy.geocoders import Nominatim\n",
    "prop_limit = 20\n",
    "\n",
    "\n",
    "df = pd.read_excel(\"DataExport.xlsx\")\n",
    "\n",
    "os.environ['SSL_CERT_FILE'] = certifi.where()\n",
    "\n",
    "geolocator = Nominatim(user_agent=\"geoapi\")\n",
    "\n",
    "\n",
    "# Initialize geolocator\n",
    "geolocator = Nominatim(user_agent=\"geoapi\")\n",
    "\n",
    "# Function to geocode an address\n",
    "def geocode_address(address,  country_code='CA'):\n",
    "    #update address for each valid param\n",
    "        \n",
    "    print(address)\n",
    "    # Try to geocode the address, return None if it fails\n",
    "\n",
    "    try:\n",
    "        location = geolocator.geocode(address)\n",
    "        if location:\n",
    "            print(location)\n",
    "            return location.latitude, location.longitude\n",
    "        else:\n",
    "            print('Location not found')\n",
    "            return None, None\n",
    "    except Exception as e:\n",
    "        return None, None\n",
    "\n",
    "# Create the 'Full Address' column\n",
    "df['Full Address'] = df['Address Number'].astype(str) + ' ' + df['Road Name'] + ' ' + df['Road Type']\n",
    "\n",
    "# Restrict geocoding to only 10 requests\n",
    "df['Latitude'], df['Longitude'] = None, None  # Initialize columns\n",
    "for i, address in enumerate(df['Full Address']):\n",
    "    print(address)\n",
    "    print(f\"Geocoding address {i + 1} of {prop_limit}\")\n",
    "    if i >= prop_limit:  \n",
    "        break\n",
    "    loc  = geocode_address(address)\n",
    "    print(\"loc\",loc)\n",
    "    lat, lon = loc\n",
    "    df.loc[i, 'Latitude'] = lat\n",
    "    df.loc[i, 'Longitude'] = lon\n",
    "\n",
    "# Drop rows with missing coordinates\n",
    "df = df.dropna(subset=['Latitude', 'Longitude'])\n",
    "\n",
    "# Create the map\n",
    "fig = px.scatter_mapbox(\n",
    "    df, \n",
    "    lat='Latitude', \n",
    "    lon='Longitude', \n",
    "    hover_name='Application Number', \n",
    "    hover_data=[\n",
    "        'Application Type', \n",
    "        'Application Status', \n",
    "        'File Lead', \n",
    "        'Brief Description'\n",
    "    ],\n",
    "    color='Application Status', \n",
    "    zoom=10, \n",
    "    height=600\n",
    ")\n",
    "\n",
    "# Update the layout of the map\n",
    "fig.update_layout(mapbox_style=\"open-street-map\")\n",
    "fig.update_layout(margin={\"r\": 0, \"t\": 0, \"l\": 0, \"b\": 0})\n",
    "\n",
    "# Show the map\n",
    "fig.show()\n"
   ]
  },
  {
   "cell_type": "code",
   "execution_count": 10,
   "metadata": {},
   "outputs": [],
   "source": [
    "import pandas as pd\n",
    "import os\n",
    "import certifi\n",
    "\n",
    "def load_data(file_path):\n",
    "    \"\"\"Load the Excel file and preprocess the 'Full Address' column.\"\"\"\n",
    "    df = pd.read_excel(file_path)\n",
    "    df['Full Address'] = df['Address Number'].astype(str) + ' ' + df['Road Name'] + ' ' + df['Road Type']\n",
    "    return df\n"
   ]
  },
  {
   "cell_type": "code",
   "execution_count": 11,
   "metadata": {},
   "outputs": [],
   "source": [
    "from geopy.geocoders import Nominatim\n",
    "\n",
    "# Initialize geolocator\n",
    "os.environ['SSL_CERT_FILE'] = certifi.where()\n",
    "geolocator = Nominatim(user_agent=\"geoapi\")\n",
    "\n",
    "def geocode_address(address):\n",
    "    \"\"\"Geocode a single address and return latitude and longitude.\"\"\"\n",
    "    try:\n",
    "        location = geolocator.geocode(address)\n",
    "        if location:\n",
    "            return location.latitude, location.longitude\n",
    "        else:\n",
    "            return None, None\n",
    "    except Exception as e:\n",
    "        return None, None\n",
    "\n",
    "def geocode_dataframe(df, address_col, limit=20):\n",
    "    \"\"\"Geocode a DataFrame's address column, limiting the number of requests.\"\"\"\n",
    "    df['Latitude'], df['Longitude'] = None, None  # Initialize columns\n",
    "    for i, address in enumerate(df[address_col]):\n",
    "        if i >= limit:  # Limit geocoding requests\n",
    "            break\n",
    "        lat, lon = geocode_address(address)\n",
    "        df.loc[i, 'Latitude'] = lat\n",
    "        df.loc[i, 'Longitude'] = lon\n",
    "    return df\n"
   ]
  },
  {
   "cell_type": "code",
   "execution_count": 52,
   "metadata": {},
   "outputs": [
    {
     "data": {
      "text/plain": [
       "Index(['Application Number', 'Application Date', 'Application Type',\n",
       "       'Address Number', 'Road Name', 'Road Type', 'Object Status Type',\n",
       "       'Application Status', 'File Lead', 'Brief Description',\n",
       "       'Object Status Date', 'Ward #', 'Ward', 'Full Address', 'Latitude',\n",
       "       'Longitude', 'Processing Time'],\n",
       "      dtype='object')"
      ]
     },
     "execution_count": 52,
     "metadata": {},
     "output_type": "execute_result"
    }
   ],
   "source": [
    "df.columns"
   ]
  },
  {
   "cell_type": "code",
   "execution_count": 55,
   "metadata": {},
   "outputs": [],
   "source": [
    "import plotly.express as px\n",
    "\n",
    "def plot_map(df):\n",
    "    \"\"\"Create a styled mapbox scatter plot using Plotly.\"\"\"\n",
    "    # Create the map\n",
    "    fig = px.scatter_mapbox(\n",
    "        df,\n",
    "        lat='Latitude',\n",
    "        lon='Longitude',\n",
    "        hover_name='Application Number',\n",
    "        hover_data=[\n",
    "            'Application Type',\n",
    "            'Application Status',\n",
    "            'File Lead',\n",
    "            'Application Date'\n",
    "            # 'Brief Description'\n",
    "        ],\n",
    "        color='Application Status',\n",
    "        color_discrete_sequence=px.colors.qualitative.Set2,  # Softer color palette\n",
    "        size_max=15,  # Limit point size\n",
    "        zoom=0,  # Set to minimum zoom (max zoom out)\n",
    "        height=700,  # Slightly larger map for better viewing\n",
    "        opacity=0.8,  # Transparency for map points\n",
    "    )\n",
    "\n",
    "    # Update map style\n",
    "    fig.update_layout(\n",
    "        mapbox_style=\"carto-positron\",  # Lighter base map for better readability\n",
    "        mapbox_zoom=0,  # Default zoom level\n",
    "        mapbox_center={\"lat\": df['Latitude'].mean(), \"lon\": df['Longitude'].mean()},  # Center map dynamically\n",
    "    )\n",
    "\n",
    "    # Add custom layout tweaks\n",
    "    fig.update_layout(\n",
    "        title={\n",
    "            'text': \"Application Locations with Status Highlighted\",\n",
    "            'y': 0.95,  # Title vertical alignment\n",
    "            'x': 0.5,  # Center the title horizontally\n",
    "            'xanchor': 'center',\n",
    "            'yanchor': 'top',\n",
    "            'font': {'size': 20},  # Larger font for the title\n",
    "        },\n",
    "        legend=dict(\n",
    "            title=\"Application Status\",\n",
    "            orientation=\"h\",  # Horizontal legend for better readability\n",
    "            yanchor=\"bottom\",\n",
    "            y=0.02,\n",
    "            xanchor=\"center\",\n",
    "            x=0.5,\n",
    "        ),\n",
    "        margin={\"r\": 10, \"t\": 40, \"l\": 10, \"b\": 10},  # Add some spacing around the map\n",
    "    )\n",
    "\n",
    "    # Customize hover labels for better clarity\n",
    "    fig.update_traces(\n",
    "        marker=dict(size=10, opacity=0.9),  # Adjust marker size and transparency\n",
    "        hovertemplate=(\n",
    "            \"<b>%{hovertext}</b><br>\"  # Application Number\n",
    "            \"<i>Type:</i> %{customdata[0]}<br>\"  # Application Status\n",
    "            \"<i>Status:</i> %{customdata[1]}<br>\"  # Application Status\n",
    "            \"<i>Lead:</i> %{customdata[2]}<br>\"  # File Lead\n",
    "            \"<i>Application Date:</i> %{customdata[3]}\"  # Brief Description\n",
    "        ),\n",
    "    )\n",
    "\n",
    "    return fig\n"
   ]
  },
  {
   "cell_type": "code",
   "execution_count": 42,
   "metadata": {},
   "outputs": [],
   "source": [
    "import plotly.express as px\n",
    "\n",
    "def display_summary_charts(summary):\n",
    "    \"\"\"\n",
    "    Display summary information using charts.\n",
    "    \"\"\"\n",
    "    # Chart 1: Total Applications\n",
    "    print(f\"Total Applications: {summary['Total Applications']}\")\n",
    "\n",
    "    # Chart 2: Breakdown by Application Status\n",
    "    fig1 = px.pie(\n",
    "        summary[\"Status Summary\"],\n",
    "        names=\"Application Status\",  # Ensure this matches the column name in the DataFrame\n",
    "        values=\"Count\",  # Use \"Count\" since it represents actual numbers\n",
    "        title=\"Application Status Breakdown\",\n",
    "        color_discrete_sequence=px.colors.qualitative.Set2,\n",
    "    )\n",
    "    fig1.show()\n",
    "\n",
    "    # Chart 3: Breakdown by Application Status\n",
    "    fig2 = px.bar(\n",
    "        summary[\"Type Summary\"],\n",
    "        x=\"Application Status\",\n",
    "        y=\"Count\",\n",
    "        title=\"Applications by Type\",\n",
    "        text=\"Count\",\n",
    "        color=\"Application Type\",\n",
    "        color_discrete_sequence=px.colors.qualitative.Pastel,\n",
    "    )\n",
    "    fig2.update_traces(textposition=\"outside\")\n",
    "    fig2.show()\n",
    "\n",
    "    # Chart 4: Top Wards by Application Volume\n",
    "    fig3 = px.bar(\n",
    "        summary[\"Top Wards\"],\n",
    "        x=\"Ward\",\n",
    "        y=\"Count\",\n",
    "        title=\"Top 5 Wards by Application Volume\",\n",
    "        text=\"Count\",\n",
    "        color=\"Ward\",\n",
    "        color_discrete_sequence=px.colors.qualitative.Set1,\n",
    "    )\n",
    "    fig3.update_traces(textposition=\"outside\")\n",
    "    fig3.show()\n",
    "\n",
    "    # Chart 5: Average Processing Time by Status\n",
    "    fig4 = px.bar(\n",
    "        summary[\"Average Processing Time by Status\"],\n",
    "        x=\"Application Status\",\n",
    "        y=\"Average Processing Time (days)\",\n",
    "        title=\"Average Processing Time by Status\",\n",
    "        text=\"Average Processing Time (days)\",\n",
    "        color=\"Application Status\",\n",
    "        color_discrete_sequence=px.colors.qualitative.Bold,\n",
    "    )\n",
    "    fig4.update_traces(textposition=\"outside\")\n",
    "    fig4.show()\n"
   ]
  },
  {
   "cell_type": "code",
   "execution_count": 43,
   "metadata": {},
   "outputs": [],
   "source": [
    "import plotly.express as px\n",
    "import plotly.graph_objects as go\n",
    "\n",
    "def display_summary_charts(summary):\n",
    "    \"\"\"\n",
    "    Display summary information using charts.\n",
    "    \"\"\"\n",
    "    # Chart 1: Total Applications\n",
    "    print(f\"Total Applications: {summary['Total Applications']}\")\n",
    "\n",
    "    # Chart 2: Breakdown by Application Status\n",
    "    fig1 = px.pie(\n",
    "        summary[\"Status Summary\"],\n",
    "        names=\"Application Status\",\n",
    "        values=\"Percentage\",\n",
    "        title=\"Application Status Breakdown\",\n",
    "        color_discrete_sequence=px.colors.qualitative.Set2,\n",
    "    )\n",
    "    fig1.show()\n",
    "\n",
    "    # Chart 3: Breakdown by Application Type\n",
    "    fig2 = px.bar(\n",
    "        summary[\"Type Summary\"],\n",
    "        x=\"Application Type\",\n",
    "        y=\"Count\",\n",
    "        title=\"Applications by Type\",\n",
    "        text=\"Count\",\n",
    "        color=\"Application Type\",\n",
    "        color_discrete_sequence=px.colors.qualitative.Pastel,\n",
    "    )\n",
    "    fig2.update_traces(textposition=\"outside\")\n",
    "    fig2.show()\n",
    "\n",
    "    # Chart 4: Top Wards by Application Volume\n",
    "    fig3 = px.bar(\n",
    "        summary[\"Top Wards\"],\n",
    "        x=\"Ward\",\n",
    "        y=\"Count\",\n",
    "        title=\"Top 5 Wards by Application Volume\",\n",
    "        text=\"Count\",\n",
    "        color=\"Ward\",\n",
    "        color_discrete_sequence=px.colors.qualitative.Set1,\n",
    "    )\n",
    "    fig3.update_traces(textposition=\"outside\")\n",
    "    fig3.show()\n",
    "\n",
    "    # Chart 5: Average Processing Time by Status\n",
    "    fig4 = px.bar(\n",
    "        summary[\"Average Processing Time by Status\"],\n",
    "        x=\"Application Status\",\n",
    "        y=\"Average Processing Time (days)\",\n",
    "        title=\"Average Processing Time by Status\",\n",
    "        text=\"Average Processing Time (days)\",\n",
    "        color=\"Application Status\",\n",
    "        color_discrete_sequence=px.colors.qualitative.Bold,\n",
    "    )\n",
    "    fig4.update_traces(textposition=\"outside\")\n",
    "    fig4.show()\n"
   ]
  },
  {
   "cell_type": "code",
   "execution_count": 57,
   "metadata": {},
   "outputs": [
    {
     "data": {
      "application/vnd.plotly.v1+json": {
       "config": {
        "plotlyServerURL": "https://plot.ly"
       },
       "data": [
        {
         "customdata": [
          [
           "Demolition Control",
           "Post Approval",
           "Douglas James",
           "2016-06-20"
          ],
          [
           "Demolition Control",
           "Post Approval",
           "Tracey Scaramozzino",
           "2015-12-14"
          ],
          [
           "Demolition Control",
           "Post Approval",
           "Tracey Scaramozzino",
           "2015-12-14"
          ],
          [
           "Plan of Subdivision",
           "Post Approval",
           "Sarah Mccormick",
           "2016-02-23"
          ],
          [
           "Site Plan Control",
           "Post Approval",
           "Simon Deiaco",
           "2016-05-19"
          ],
          [
           "Site Plan Control",
           "Post Approval",
           "Tracey Scaramozzino",
           "2016-05-26"
          ],
          [
           "Site Plan Control",
           "Post Approval",
           "Simon Deiaco",
           "2016-08-05"
          ],
          [
           "Site Plan Control",
           "Post Approval",
           "Simon Deiaco",
           "2016-08-05"
          ],
          [
           "Plan of Subdivision",
           "Post Approval",
           "Sole Soyak",
           "2016-11-10"
          ],
          [
           "Plan of Subdivision",
           "Post Approval",
           "Sean Moore",
           "2016-10-03"
          ],
          [
           "Plan of Subdivision",
           "Post Approval",
           "John Bernier",
           "2017-01-10"
          ],
          [
           "Plan of Subdivision",
           "Post Approval",
           "Wendy Tse",
           "2017-03-07"
          ],
          [
           "Demolition Control",
           "Post Approval",
           "Allison Hamlin",
           "2017-03-03"
          ],
          [
           "Demolition Control",
           "Post Approval",
           "Allison Hamlin",
           "2017-03-03"
          ],
          [
           "Demolition Control",
           "Post Approval",
           "Allison Hamlin",
           "2017-03-03"
          ],
          [
           "Demolition Control",
           "Post Approval",
           "Allison Hamlin",
           "2017-03-03"
          ],
          [
           "Demolition Control",
           "Post Approval",
           "Allison Hamlin",
           "2017-03-03"
          ],
          [
           "Demolition Control",
           "Post Approval",
           "Allison Hamlin",
           "2017-03-03"
          ],
          [
           "Site Plan Control",
           "Post Approval",
           "Kersten Nitsche",
           "2014-12-23"
          ],
          [
           "Site Plan Control",
           "Post Approval",
           "Kersten Nitsche",
           "2014-12-23"
          ],
          [
           "Site Plan Control",
           "Post Approval",
           "Kersten Nitsche",
           "2014-12-23"
          ],
          [
           "Plan of Subdivision",
           "Post Approval",
           "Sean Moore",
           "2015-07-07"
          ],
          [
           "Official Plan Amendment",
           "Post Approval",
           "Krista Libman",
           "2015-06-12"
          ],
          [
           "Demolition Control",
           "Post Approval",
           "Ann O'Connor",
           "2015-07-28"
          ],
          [
           "Demolition Control",
           "Post Approval",
           "Ann O'Connor",
           "2015-07-28"
          ],
          [
           "Demolition Control",
           "Post Approval",
           "Ann O'Connor",
           "2015-07-28"
          ],
          [
           "Demolition Control",
           "Post Approval",
           "Ann O'Connor",
           "2015-07-31"
          ],
          [
           "Demolition Control",
           "Post Approval",
           "Ann O'Connor",
           "2015-07-31"
          ],
          [
           "Demolition Control",
           "Post Approval",
           "Ann O'Connor",
           "2015-07-31"
          ],
          [
           "Demolition Control",
           "Post Approval",
           "Ann O'Connor",
           "2015-07-31"
          ],
          [
           "Demolition Control",
           "Post Approval",
           "Amanda Marsh",
           "2015-08-21"
          ],
          [
           "Plan of Subdivision",
           "Post Approval",
           "Sarah Mccormick",
           "2020-02-03"
          ],
          [
           "Site Plan Control",
           "Post Approval",
           "Lily Xu",
           "2010-06-11"
          ],
          [
           "Site Plan Control",
           "Post Approval",
           "Mike Schmidt",
           "2010-08-03"
          ],
          [
           "Site Plan Control",
           "Post Approval",
           "Mike Schmidt",
           "2010-08-03"
          ],
          [
           "Site Plan Control",
           "Post Approval",
           "Mike Schmidt",
           "2010-08-03"
          ],
          [
           "Site Plan Control",
           "Post Approval",
           "Steve Gauthier",
           "2010-12-24"
          ],
          [
           "Official Plan Amendment",
           "Post Approval",
           "Marica Clarke",
           "2009-01-01"
          ],
          [
           "Site Plan Control",
           "Post Approval",
           "Julie Lebrun",
           "2012-08-13"
          ],
          [
           "Zoning By-law Amendment",
           "Post Approval",
           "Jillian Savage",
           "2012-08-21"
          ],
          [
           "Zoning By-law Amendment",
           "Post Approval",
           "Allison Hamlin",
           "2011-10-21"
          ]
         ],
         "hovertemplate": "<b>%{hovertext}</b><br><i>Type:</i> %{customdata[0]}<br><i>Status:</i> %{customdata[1]}<br><i>Lead:</i> %{customdata[2]}<br><i>Application Date:</i> %{customdata[3]}",
         "hovertext": [
          "D07-05-16-0003",
          "D07-05-15-0008",
          "D07-05-15-0008",
          "D07-16-16-0003",
          "D07-12-16-0071",
          "D07-12-16-0074",
          "D07-12-16-0119",
          "D07-12-16-0119",
          "D07-16-16-0020",
          "D07-16-16-0018",
          "D07-16-17-0001",
          "D07-16-17-0007",
          "D07-05-17-0002",
          "D07-05-17-0002",
          "D07-05-17-0002",
          "D07-05-17-0002",
          "D07-05-17-0002",
          "D07-05-17-0002",
          "D07-12-14-0201",
          "D07-12-14-0201",
          "D07-12-14-0201",
          "D07-16-15-0007",
          "D01-01-15-0009",
          "D07-05-15-0002",
          "D07-05-15-0003",
          "D07-05-15-0003",
          "D07-05-15-0004",
          "D07-05-15-0004",
          "D07-05-15-0004",
          "D07-05-15-0004",
          "D07-05-15-0006",
          "OLV2002-0020",
          "D07-12-10-0155",
          "D07-12-10-0197",
          "D07-12-10-0197",
          "D07-12-10-0197",
          "D07-12-10-0308",
          "D01-01-09-0001",
          "D07-12-12-0136",
          "D02-02-12-0090",
          "D02-02-11-0102"
         ],
         "lat": [
          45.434625433150124,
          45.4070411,
          45.40706295,
          35.05822520931653,
          45.45056276132493,
          45.43062345,
          44.236918605263156,
          44.236918605263156,
          45.2803394,
          45.23464482952462,
          45.287368799999996,
          39.28800054166667,
          40.636724099999995,
          40.6755947,
          45.4084744,
          40.6365823,
          40.63639285,
          40.6803656,
          46.3144754,
          46.3144754,
          46.3144754,
          45.24703906263211,
          46.3144754,
          45.4177503,
          45.4177814,
          51.45168311898806,
          45.3997194,
          53.39861995,
          53.39866935,
          53.398685549999996,
          45.4173177,
          45.2972958,
          45.255821041981406,
          45.25324245962992,
          45.25324245962992,
          45.32312899070444,
          45.25800785,
          46.3144754,
          45.134361397947146,
          46.3144754,
          51.451464900000005
         ],
         "legendgroup": "Post Approval",
         "lon": [
          -75.67603581966213,
          -75.7326098,
          -75.73255427998953,
          -89.71199248577328,
          -75.59617075350631,
          -75.6679356534847,
          -76.48247721052633,
          -76.48247721052633,
          -75.9009252,
          -75.7528940487805,
          -75.75645105000001,
          -76.55603666666667,
          -74.16718587293056,
          -73.71941,
          -75.6968943,
          -74.1671855366236,
          -74.1671666638627,
          -73.88912240591765,
          11.0480288,
          11.0480288,
          11.0480288,
          -75.56578918768255,
          11.0480288,
          -75.6966095,
          -75.6965451,
          -0.23999909009081444,
          -75.710337,
          -3.0553564478507376,
          -3.05552617406393,
          -3.055604267132033,
          -75.6964101,
          -75.9886884,
          -75.73397953783729,
          -75.72637548834624,
          -75.72637548834624,
          -75.77765716550412,
          -75.5772806094451,
          11.0480288,
          -74.48312426822142,
          11.0480288,
          -0.31912896258532647
         ],
         "marker": {
          "color": "rgb(102,194,165)",
          "opacity": 0.9,
          "size": 10
         },
         "mode": "markers",
         "name": "Post Approval",
         "showlegend": true,
         "subplot": "mapbox",
         "type": "scattermapbox"
        },
        {
         "customdata": [
          [
           "Plan of Subdivision",
           "File Pending",
           "Cheryl Mcwilliams",
           "2015-12-30"
          ],
          [
           "Site Plan Control",
           "File Pending",
           "Steve Gauthier",
           "2016-01-04"
          ],
          [
           "Site Plan Control",
           "File Pending",
           "Steve Gauthier",
           "2016-01-04"
          ],
          [
           "Site Plan Control",
           "File Pending",
           "Erin O'Connell",
           "2016-04-12"
          ],
          [
           "Site Plan Control",
           "File Pending",
           "Erin O'Connell",
           "2016-04-12"
          ],
          [
           "Site Plan Control",
           "File Pending",
           "Erin O'Connell",
           "2016-04-12"
          ],
          [
           "Site Plan Control",
           "File Pending",
           "Erin O'Connell",
           "2016-04-12"
          ],
          [
           "Site Plan Control",
           "File Pending",
           "Erin O'Connell",
           "2016-04-12"
          ],
          [
           "Site Plan Control",
           "File Pending",
           "Erin O'Connell",
           "2016-04-12"
          ],
          [
           "Site Plan Control",
           "File Pending",
           "Erin O'Connell",
           "2016-04-12"
          ],
          [
           "Site Plan Control",
           "File Pending",
           "Erin O'Connell",
           "2016-04-12"
          ],
          [
           "Site Plan Control",
           "File Pending",
           "Erin O'Connell",
           "2016-04-12"
          ],
          [
           "Site Plan Control",
           "File Pending",
           "Erin O'Connell",
           "2016-04-12"
          ],
          [
           "Site Plan Control",
           "File Pending",
           "Erin O'Connell",
           "2016-04-12"
          ],
          [
           "Site Plan Control",
           "File Pending",
           "Erin O'Connell",
           "2016-04-12"
          ],
          [
           "Site Plan Control",
           "File Pending",
           "Erin O'Connell",
           "2016-04-12"
          ],
          [
           "Site Plan Control",
           "File Pending",
           "Erin O'Connell",
           "2016-04-12"
          ],
          [
           "Site Plan Control",
           "File Pending",
           "Erin O'Connell",
           "2016-04-12"
          ],
          [
           "Site Plan Control",
           "File Pending",
           "Erin O'Connell",
           "2016-04-12"
          ],
          [
           "Site Plan Control",
           "File Pending",
           "Allison Hamlin",
           "2016-04-25"
          ],
          [
           "Site Plan Control",
           "File Pending",
           "Allison Hamlin",
           "2016-04-25"
          ],
          [
           "Site Plan Control",
           "File Pending",
           "Colette Gorni",
           "2016-09-07"
          ],
          [
           "Zoning By-law Amendment",
           "File Pending",
           "Stream Shen",
           "2016-12-22"
          ],
          [
           "Plan of Subdivision",
           "File Pending",
           "Stream Shen",
           "2016-12-22"
          ],
          [
           "Site Plan Control",
           "File Pending",
           "Laurel Mccreight",
           "2014-12-23"
          ],
          [
           "Site Plan Control",
           "File Pending",
           "Laurel Mccreight",
           "2014-12-23"
          ],
          [
           "Site Plan Control",
           "File Pending",
           "Laurel Mccreight",
           "2014-12-23"
          ],
          [
           "Official Plan Amendment",
           "File Pending",
           "Krista Libman",
           "2014-12-22"
          ],
          [
           "Site Plan Control",
           "File Pending",
           "Stephen Belan",
           "2015-04-23"
          ],
          [
           "Site Plan Control",
           "File Pending",
           "Allison Hamlin",
           "2015-06-30"
          ],
          [
           "Site Plan Control",
           "File Pending",
           "Allison Hamlin",
           "2015-06-30"
          ],
          [
           "Plan of Condominium",
           "File Pending",
           "Sole Soyak",
           "2015-08-21"
          ],
          [
           "Plan of Condominium",
           "File Pending",
           "Sole Soyak",
           "2015-08-21"
          ],
          [
           "Plan of Condominium",
           "File Pending",
           "Sole Soyak",
           "2015-08-21"
          ],
          [
           "Site Plan Control",
           "File Pending",
           "Stream Shen",
           "2015-11-26"
          ],
          [
           "Site Plan Control",
           "File Pending",
           "Stream Shen",
           "2015-11-26"
          ],
          [
           "Site Plan Control",
           "File Pending",
           "Stream Shen",
           "2015-11-26"
          ],
          [
           "Site Plan Control",
           "File Pending",
           "Stream Shen",
           "2015-11-26"
          ],
          [
           "Site Plan Control",
           "File Pending",
           "Stream Shen",
           "2015-11-26"
          ],
          [
           "Site Plan Control",
           "File Pending",
           "Stream Shen",
           "2015-11-26"
          ],
          [
           "Site Plan Control",
           "File Pending",
           "Stream Shen",
           "2015-11-26"
          ],
          [
           "Site Plan Control",
           "File Pending",
           "Stream Shen",
           "2015-11-26"
          ],
          [
           "Site Plan Control",
           "File Pending",
           "Stream Shen",
           "2015-11-26"
          ],
          [
           "Site Plan Control",
           "File Pending",
           "Stream Shen",
           "2015-11-26"
          ],
          [
           "Site Plan Control",
           "File Pending",
           "Stream Shen",
           "2015-11-26"
          ],
          [
           "Site Plan Control",
           "File Pending",
           "Stream Shen",
           "2015-11-26"
          ],
          [
           "Zoning By-law Amendment",
           "File Pending",
           "Kimberley Baldwin",
           "2008-11-24"
          ],
          [
           "Site Plan Control",
           "File Pending",
           "Allison Hamlin",
           "2009-12-03"
          ],
          [
           "Site Plan Control",
           "File Pending",
           "Allison Hamlin",
           "2009-12-03"
          ],
          [
           "Plan of Subdivision",
           "File Pending",
           "Adam Brown",
           "2009-12-10"
          ],
          [
           "Site Plan Control",
           "File Pending",
           "Douglas James",
           "2009-11-06"
          ],
          [
           "Site Plan Control",
           "File Pending",
           "Douglas James",
           "2009-11-06"
          ],
          [
           "Site Plan Control",
           "File Pending",
           "Douglas James",
           "2009-11-06"
          ],
          [
           "Site Plan Control",
           "File Pending",
           "Douglas James",
           "2009-11-06"
          ],
          [
           "Site Plan Control",
           "File Pending",
           "Douglas James",
           "2009-11-06"
          ],
          [
           "Site Plan Control",
           "File Pending",
           "Jean-Charles Renaud",
           "2012-02-08"
          ],
          [
           "Site Plan Control",
           "File Pending",
           "Jean-Charles Renaud",
           "2012-02-08"
          ],
          [
           "Site Plan Control",
           "File Pending",
           "Jean-Charles Renaud",
           "2012-02-08"
          ],
          [
           "Site Plan Control",
           "File Pending",
           "Jean-Charles Renaud",
           "2012-02-08"
          ],
          [
           "Zoning By-law Amendment",
           "File Pending",
           "Sean Moore",
           "2012-02-27"
          ],
          [
           "Site Plan Control",
           "File Pending",
           "Douglas James",
           "2012-09-19"
          ],
          [
           "Zoning By-law Amendment",
           "File Pending",
           "Erin O'Connell",
           "2011-04-04"
          ],
          [
           "Site Plan Control",
           "File Pending",
           "Erin O'Connell",
           "2011-04-04"
          ],
          [
           "Zoning By-law Amendment",
           "File Pending",
           "Sean Moore",
           "2011-04-29"
          ],
          [
           "Site Plan Control",
           "File Pending",
           "Simon Deiaco",
           "2011-08-25"
          ],
          [
           "Demolition Control",
           "File Pending",
           "Erin O'Connell",
           "2011-11-30"
          ]
         ],
         "hovertemplate": "<b>%{hovertext}</b><br><i>Type:</i> %{customdata[0]}<br><i>Status:</i> %{customdata[1]}<br><i>Lead:</i> %{customdata[2]}<br><i>Application Date:</i> %{customdata[3]}",
         "hovertext": [
          "D07-16-15-0015",
          "D07-12-16-0002",
          "D07-12-16-0002",
          "D07-12-16-0045",
          "D07-12-16-0045",
          "D07-12-16-0045",
          "D07-12-16-0045",
          "D07-12-16-0045",
          "D07-12-16-0045",
          "D07-12-16-0045",
          "D07-12-16-0045",
          "D07-12-16-0045",
          "D07-12-16-0045",
          "D07-12-16-0045",
          "D07-12-16-0045",
          "D07-12-16-0045",
          "D07-12-16-0045",
          "D07-12-16-0045",
          "D07-12-16-0045",
          "D07-12-16-0052",
          "D07-12-16-0052",
          "D07-12-16-0132",
          "D02-02-16-0114",
          "D07-16-16-0024",
          "D07-12-14-0200",
          "D07-12-14-0200",
          "D07-12-14-0200",
          "D01-01-14-0027",
          "D07-12-15-0079",
          "D07-12-15-0117",
          "D07-12-15-0117",
          "D07-04-15-0026",
          "D07-04-15-0026",
          "D07-04-15-0026",
          "D07-12-15-0184",
          "D07-12-15-0184",
          "D07-12-15-0184",
          "D07-12-15-0184",
          "D07-12-15-0184",
          "D07-12-15-0184",
          "D07-12-15-0184",
          "D07-12-15-0184",
          "D07-12-15-0184",
          "D07-12-15-0184",
          "D07-12-15-0184",
          "D07-12-15-0184",
          "D02-02-08-0121",
          "D07-12-09-0212",
          "D07-12-09-0212",
          "D07-16-09-0030",
          "D07-12-09-0197",
          "D07-12-09-0197",
          "D07-12-09-0197",
          "D07-12-09-0197",
          "D07-12-09-0197",
          "D07-12-12-0017",
          "D07-12-12-0017",
          "D07-12-12-0017",
          "D07-12-12-0017",
          "D02-02-12-0018",
          "D07-12-12-0156",
          "D02-02-11-0023",
          "D07-12-11-0057",
          "D02-02-11-0036",
          "D07-12-11-0166",
          "D07-05-11-0006"
         ],
         "lat": [
          45.2495828,
          45.400403,
          42.3528816,
          45.431725,
          45.431725,
          45.431725,
          45.431725,
          45.4316036,
          45.4316036,
          45.4316036,
          45.4316036,
          45.4315029,
          45.4315029,
          45.4315029,
          45.4315029,
          45.4319368,
          45.4319368,
          45.4319368,
          45.4319368,
          45.42565571027872,
          45.4326645,
          45.33538015,
          45.3261842,
          45.3261842,
          45.28798639397654,
          45.297137,
          45.297137,
          46.3144754,
          45.3858581,
          45.418316,
          45.4187543,
          45.285647052756374,
          45.285647052756374,
          45.285647052756374,
          43.0375773,
          45.33933745,
          45.33933745,
          45.33933745,
          45.33933745,
          45.33933745,
          45.33933745,
          45.33933745,
          45.33933745,
          45.33933745,
          45.33933745,
          45.545965078028026,
          45.332582,
          45.419562400000004,
          45.419562400000004,
          45.497813,
          40.735943750000004,
          40.73591355,
          40.735894099999996,
          45.4187397,
          43.50579328841396,
          39.30232522448979,
          39.30232522448979,
          39.30232522448979,
          39.30232522448979,
          45.30279575,
          45.413681499999996,
          45.434625433150124,
          45.434625433150124,
          45.28798639397654,
          45.4096201,
          45.4210785
         ],
         "legendgroup": "File Pending",
         "lon": [
          -75.5639541,
          -75.6996055,
          -71.1400708,
          -75.6878775,
          -75.6878775,
          -75.6878775,
          -75.6878775,
          -75.6877474,
          -75.6877474,
          -75.6877474,
          -75.6877474,
          -75.6876522,
          -75.6876522,
          -75.6876522,
          -75.6876522,
          -75.6877364763796,
          -75.6877364763796,
          -75.6877364763796,
          -75.6877364763796,
          -75.69309542949883,
          -75.6757152,
          -75.90844637425207,
          -75.9483878,
          -75.9483878,
          -75.91908121939882,
          -75.933958,
          -75.933958,
          11.0480288,
          -75.69500411688679,
          -75.706326,
          -75.7064489,
          -75.84009675409499,
          -75.84009675409499,
          -75.84009675409499,
          -78.9656491,
          -75.79296613865104,
          -75.79296613865104,
          -75.79296613865104,
          -75.79296613865104,
          -75.79296613865104,
          -75.79296613865104,
          -75.79296613865104,
          -75.79296613865104,
          -75.79296613865104,
          -75.79296613865104,
          -75.184030920483,
          -75.699514,
          -75.70415286129034,
          -75.70415286129034,
          -75.43863549062235,
          -74.00896395000001,
          -74.00910177693234,
          -74.00924591692132,
          -75.6994258,
          -79.86663172056532,
          -76.60128371428571,
          -76.60128371428571,
          -76.60128371428571,
          -76.60128371428571,
          -75.91319382724609,
          -75.68846543939279,
          -75.67603581966213,
          -75.67603581966213,
          -75.91908121939882,
          -75.7109872,
          -75.67713461951755
         ],
         "marker": {
          "color": "rgb(252,141,98)",
          "opacity": 0.9,
          "size": 10
         },
         "mode": "markers",
         "name": "File Pending",
         "showlegend": true,
         "subplot": "mapbox",
         "type": "scattermapbox"
        },
        {
         "customdata": [
          [
           "Zoning By-law Amendment",
           "Inactive",
           "Jean-Charles Renaud",
           "2016-09-30"
          ],
          [
           "Zoning By-law Amendment",
           "Inactive",
           "Sarah Mccormick",
           "2020-02-03"
          ],
          [
           "Zoning By-law Amendment",
           "Inactive",
           "Sarah Mccormick",
           "2020-02-03"
          ],
          [
           "Zoning By-law Amendment",
           "Inactive",
           "Louise Sweet-Lindsay",
           "2008-07-25"
          ],
          [
           "Zoning By-law Amendment",
           "Inactive",
           "Louise Sweet-Lindsay",
           "2008-07-25"
          ],
          [
           "Zoning By-law Amendment",
           "Inactive",
           "Louise Sweet-Lindsay",
           "2008-07-25"
          ],
          [
           "Zoning By-law Amendment",
           "Inactive",
           "Louise Sweet-Lindsay",
           "2008-07-25"
          ],
          [
           "Zoning By-law Amendment",
           "Inactive",
           "Louise Sweet-Lindsay",
           "2008-07-25"
          ],
          [
           "Zoning By-law Amendment",
           "Inactive",
           "Louise Sweet-Lindsay",
           "2008-07-25"
          ],
          [
           "Zoning By-law Amendment",
           "Inactive",
           "Louise Sweet-Lindsay",
           "2008-07-25"
          ],
          [
           "Zoning By-law Amendment",
           "Inactive",
           "Louise Sweet-Lindsay",
           "2008-07-25"
          ],
          [
           "Zoning By-law Amendment",
           "Inactive",
           "Louise Sweet-Lindsay",
           "2008-07-25"
          ],
          [
           "Zoning By-law Amendment",
           "Inactive",
           "Louise Sweet-Lindsay",
           "2008-07-25"
          ],
          [
           "Zoning By-law Amendment",
           "Inactive",
           "Louise Sweet-Lindsay",
           "2008-07-25"
          ],
          [
           "Zoning By-law Amendment",
           "Inactive",
           "Louise Sweet-Lindsay",
           "2008-07-25"
          ],
          [
           "Zoning By-law Amendment",
           "Inactive",
           "Louise Sweet-Lindsay",
           "2008-07-25"
          ],
          [
           "Zoning By-law Amendment",
           "Inactive",
           "Louise Sweet-Lindsay",
           "2008-07-25"
          ],
          [
           "Zoning By-law Amendment",
           "Inactive",
           "Louise Sweet-Lindsay",
           "2008-07-25"
          ],
          [
           "Zoning By-law Amendment",
           "Inactive",
           "Kalle Hakala",
           "2010-04-09"
          ],
          [
           "Zoning By-law Amendment",
           "Inactive",
           "Kalle Hakala",
           "2010-04-09"
          ],
          [
           "Zoning By-law Amendment",
           "Inactive",
           "Kalle Hakala",
           "2010-04-09"
          ],
          [
           "Zoning By-law Amendment",
           "Inactive",
           "Kalle Hakala",
           "2010-04-09"
          ],
          [
           "Zoning By-law Amendment",
           "Inactive",
           "Kalle Hakala",
           "2010-04-09"
          ],
          [
           "Zoning By-law Amendment",
           "Inactive",
           "Steve Gauthier",
           "2010-05-20"
          ],
          [
           "Zoning By-law Amendment",
           "Inactive",
           "Douglas Bridgewater",
           "2010-11-23"
          ],
          [
           "Zoning By-law Amendment",
           "Inactive",
           "Douglas Bridgewater",
           "2010-11-23"
          ],
          [
           "Zoning By-law Amendment",
           "Inactive",
           "Douglas Bridgewater",
           "2010-11-23"
          ],
          [
           "Zoning By-law Amendment",
           "Inactive",
           "Douglas Bridgewater",
           "2010-11-23"
          ],
          [
           "Zoning By-law Amendment",
           "Inactive",
           "Douglas Bridgewater",
           "2010-11-23"
          ],
          [
           "Zoning By-law Amendment",
           "Inactive",
           "Douglas Bridgewater",
           "2010-11-23"
          ],
          [
           "Zoning By-law Amendment",
           "Inactive",
           "Douglas Bridgewater",
           "2010-11-23"
          ],
          [
           "Zoning By-law Amendment",
           "Inactive",
           "Douglas Bridgewater",
           "2010-11-23"
          ],
          [
           "Zoning By-law Amendment",
           "Inactive",
           "Douglas Bridgewater",
           "2010-11-23"
          ],
          [
           "Zoning By-law Amendment",
           "Inactive",
           "Douglas Bridgewater",
           "2010-11-23"
          ],
          [
           "Zoning By-law Amendment",
           "Inactive",
           "Douglas Bridgewater",
           "2010-11-23"
          ],
          [
           "Zoning By-law Amendment",
           "Inactive",
           "Douglas Bridgewater",
           "2010-11-23"
          ],
          [
           "Zoning By-law Amendment",
           "Inactive",
           "Douglas Bridgewater",
           "2010-11-23"
          ],
          [
           "Zoning By-law Amendment",
           "Inactive",
           "Douglas Bridgewater",
           "2010-11-23"
          ],
          [
           "Zoning By-law Amendment",
           "Inactive",
           "Douglas Bridgewater",
           "2010-11-23"
          ],
          [
           "Zoning By-law Amendment",
           "Inactive",
           "Douglas Bridgewater",
           "2010-11-23"
          ],
          [
           "Zoning By-law Amendment",
           "Inactive",
           "Douglas Bridgewater",
           "2010-11-23"
          ],
          [
           "Zoning By-law Amendment",
           "Inactive",
           "Douglas Bridgewater",
           "2010-11-23"
          ],
          [
           "Zoning By-law Amendment",
           "Inactive",
           "Douglas Bridgewater",
           "2010-11-23"
          ],
          [
           "Zoning By-law Amendment",
           "Inactive",
           "Douglas Bridgewater",
           "2010-11-23"
          ],
          [
           "Zoning By-law Amendment",
           "Inactive",
           "Douglas Bridgewater",
           "2010-11-23"
          ],
          [
           "Zoning By-law Amendment",
           "Inactive",
           "Douglas Bridgewater",
           "2010-11-23"
          ],
          [
           "Zoning By-law Amendment",
           "Inactive",
           "Douglas Bridgewater",
           "2010-11-23"
          ],
          [
           "Zoning By-law Amendment",
           "Inactive",
           "Wendy Tse",
           "2009-04-20"
          ],
          [
           "Zoning By-law Amendment",
           "Inactive",
           "Shoma Murshid",
           "2009-07-10"
          ],
          [
           "Zoning By-law Amendment",
           "Inactive",
           "Shoma Murshid",
           "2009-07-10"
          ],
          [
           "Zoning By-law Amendment",
           "Inactive",
           "Shoma Murshid",
           "2009-07-10"
          ],
          [
           "Zoning By-law Amendment",
           "Inactive",
           "Carol Ruddy",
           "2009-06-26"
          ],
          [
           "Zoning By-law Amendment",
           "Inactive",
           "Kalle Hakala",
           "2009-10-06"
          ],
          [
           "Zoning By-law Amendment",
           "Inactive",
           "Kalle Hakala",
           "2009-10-06"
          ],
          [
           "Zoning By-law Amendment",
           "Inactive",
           "Kalle Hakala",
           "2009-10-06"
          ],
          [
           "Zoning By-law Amendment",
           "Inactive",
           "Kalle Hakala",
           "2009-10-06"
          ],
          [
           "Zoning By-law Amendment",
           "Inactive",
           "Kalle Hakala",
           "2009-10-06"
          ],
          [
           "Zoning By-law Amendment",
           "Inactive",
           "Kalle Hakala",
           "2009-10-06"
          ],
          [
           "Zoning By-law Amendment",
           "Inactive",
           "Kalle Hakala",
           "2009-10-06"
          ],
          [
           "Zoning By-law Amendment",
           "Inactive",
           "Kalle Hakala",
           "2009-10-06"
          ],
          [
           "Zoning By-law Amendment",
           "Inactive",
           "Kalle Hakala",
           "2009-10-06"
          ],
          [
           "Zoning By-law Amendment",
           "Inactive",
           "Kalle Hakala",
           "2009-10-06"
          ],
          [
           "Zoning By-law Amendment",
           "Inactive",
           "Francoise Jessop",
           "2009-09-09"
          ],
          [
           "Zoning By-law Amendment",
           "Inactive",
           "Francoise Jessop",
           "2009-09-09"
          ],
          [
           "Zoning By-law Amendment",
           "Inactive",
           "Bliss Edwards",
           "2012-06-01"
          ],
          [
           "Zoning By-law Amendment",
           "Inactive",
           "Bliss Edwards",
           "2012-06-01"
          ],
          [
           "Zoning By-law Amendment",
           "Inactive",
           "Bliss Edwards",
           "2012-06-01"
          ],
          [
           "Zoning By-law Amendment",
           "Inactive",
           "Cheryl Mcwilliams",
           "2011-07-27"
          ]
         ],
         "hovertemplate": "<b>%{hovertext}</b><br><i>Type:</i> %{customdata[0]}<br><i>Status:</i> %{customdata[1]}<br><i>Lead:</i> %{customdata[2]}<br><i>Application Date:</i> %{customdata[3]}",
         "hovertext": [
          "D02-02-16-0081",
          "OZP2002-0132",
          "OZP2002-0132",
          "D02-02-08-0089",
          "D02-02-08-0089",
          "D02-02-08-0089",
          "D02-02-08-0089",
          "D02-02-08-0089",
          "D02-02-08-0089",
          "D02-02-08-0089",
          "D02-02-08-0089",
          "D02-02-08-0089",
          "D02-02-08-0089",
          "D02-02-08-0089",
          "D02-02-08-0089",
          "D02-02-08-0089",
          "D02-02-08-0089",
          "D02-02-08-0089",
          "D02-02-10-0035",
          "D02-02-10-0035",
          "D02-02-10-0035",
          "D02-02-10-0035",
          "D02-02-10-0035",
          "D02-02-10-0050",
          "D02-02-10-0094",
          "D02-02-10-0094",
          "D02-02-10-0094",
          "D02-02-10-0094",
          "D02-02-10-0094",
          "D02-02-10-0094",
          "D02-02-10-0094",
          "D02-02-10-0094",
          "D02-02-10-0094",
          "D02-02-10-0094",
          "D02-02-10-0094",
          "D02-02-10-0094",
          "D02-02-10-0094",
          "D02-02-10-0094",
          "D02-02-10-0094",
          "D02-02-10-0094",
          "D02-02-10-0094",
          "D02-02-10-0094",
          "D02-02-10-0094",
          "D02-02-10-0094",
          "D02-02-10-0094",
          "D02-02-10-0094",
          "D02-02-10-0094",
          "D02-02-09-0027",
          "D02-02-09-0062",
          "D02-02-09-0062",
          "D02-02-09-0062",
          "D02-02-09-0056",
          "D02-02-09-0084",
          "D02-02-09-0084",
          "D02-02-09-0084",
          "D02-02-09-0084",
          "D02-02-09-0084",
          "D02-02-09-0084",
          "D02-02-09-0084",
          "D02-02-09-0084",
          "D02-02-09-0084",
          "D02-02-09-0084",
          "D02-02-09-0079",
          "D02-02-09-0079",
          "D02-02-12-0064",
          "D02-02-12-0064",
          "D02-02-12-0064",
          "D02-02-11-0066"
         ],
         "lat": [
          45.40157445,
          45.29823795,
          45.2972958,
          43.0375773,
          43.0380484,
          43.0380484,
          43.0380484,
          43.0380484,
          43.0380484,
          43.0380484,
          43.0380484,
          43.0380484,
          43.0380484,
          43.0380484,
          45.3402134,
          45.3401911,
          45.33993,
          34.03895604492214,
          40.60472145,
          42.93183406203381,
          46.3144754,
          46.3144754,
          46.3144754,
          45.243071425287354,
          45.417506,
          45.417506,
          45.417506,
          45.417506,
          -27.464954,
          -27.464954,
          -27.464954,
          -27.464954,
          -27.464954,
          -27.464954,
          -27.464954,
          -27.464954,
          -27.464954,
          -27.464954,
          -27.464954,
          48.4269269,
          48.4269269,
          48.4269269,
          48.4269269,
          48.4269269,
          48.4269269,
          48.4269269,
          45.41805535,
          45.233819,
          45.4524669,
          45.4526946,
          -38.15100587267383,
          46.3144754,
          42.30054,
          42.30054,
          42.30054,
          42.30054,
          42.30054,
          45.8210937,
          45.8210937,
          45.8210937,
          45.8210937,
          45.8210937,
          45.4660505,
          45.4660505,
          45.4071928,
          45.4070411,
          45.40706295,
          45.18834259730557
         ],
         "legendgroup": "Inactive",
         "lon": [
          -75.75032994526616,
          -75.97907786827696,
          -75.9886884,
          -78.9656491,
          -78.9657061,
          -78.9657061,
          -78.9657061,
          -78.9657061,
          -78.9657061,
          -78.9657061,
          -78.9657061,
          -78.9657061,
          -78.9657061,
          -78.9657061,
          -75.7936736,
          -75.7937678,
          -75.7946657,
          -118.41540154985915,
          -74.13192884033148,
          -81.2491595706154,
          11.0480288,
          11.0480288,
          11.0480288,
          -75.58608392068965,
          -75.708528,
          -75.708528,
          -75.708528,
          -75.708528,
          153.03155399431364,
          153.03155399431364,
          153.03155399431364,
          153.03155399431364,
          153.03155399431364,
          153.03155399431364,
          153.03155399431364,
          153.03155399431364,
          153.03155399431364,
          153.03155399431364,
          153.03155399431364,
          -89.2417814,
          -89.2417814,
          -89.2417814,
          -89.2417814,
          -89.2417814,
          -89.2417814,
          -89.2417814,
          -75.70777455356465,
          -75.67458535238629,
          -75.5135779,
          -75.5130656,
          175.11658264340218,
          11.0480288,
          -81.926783,
          -81.926783,
          -81.926783,
          -81.926783,
          -81.926783,
          -77.108315,
          -77.108315,
          -77.108315,
          -77.108315,
          -77.108315,
          -75.47233425296393,
          -75.47233425296393,
          -75.732712,
          -75.7326098,
          -75.73255427998953,
          -75.8486488160384
         ],
         "marker": {
          "color": "rgb(141,160,203)",
          "opacity": 0.9,
          "size": 10
         },
         "mode": "markers",
         "name": "Inactive",
         "showlegend": true,
         "subplot": "mapbox",
         "type": "scattermapbox"
        },
        {
         "customdata": [
          [
           "Official Plan Amendment",
           "Active",
           "Lily Xu",
           "2016-12-02"
          ]
         ],
         "hovertemplate": "<b>%{hovertext}</b><br><i>Type:</i> %{customdata[0]}<br><i>Status:</i> %{customdata[1]}<br><i>Lead:</i> %{customdata[2]}<br><i>Application Date:</i> %{customdata[3]}",
         "hovertext": [
          "D01-01-16-0022"
         ],
         "lat": [
          45.323471883315
         ],
         "legendgroup": "Active",
         "lon": [
          -75.92850094368347
         ],
         "marker": {
          "color": "rgb(231,138,195)",
          "opacity": 0.9,
          "size": 10
         },
         "mode": "markers",
         "name": "Active",
         "showlegend": true,
         "subplot": "mapbox",
         "type": "scattermapbox"
        }
       ],
       "layout": {
        "height": 700,
        "legend": {
         "orientation": "h",
         "title": {
          "text": "Application Status"
         },
         "tracegroupgap": 0,
         "x": 0.5,
         "xanchor": "center",
         "y": 0.02,
         "yanchor": "bottom"
        },
        "mapbox": {
         "center": {
          "lat": 39.9065205468433,
          "lon": -53.74992382730457
         },
         "domain": {
          "x": [
           0,
           1
          ],
          "y": [
           0,
           1
          ]
         },
         "style": "carto-positron",
         "zoom": 0
        },
        "margin": {
         "b": 10,
         "l": 10,
         "r": 10,
         "t": 40
        },
        "template": {
         "data": {
          "bar": [
           {
            "error_x": {
             "color": "#2a3f5f"
            },
            "error_y": {
             "color": "#2a3f5f"
            },
            "marker": {
             "line": {
              "color": "#E5ECF6",
              "width": 0.5
             },
             "pattern": {
              "fillmode": "overlay",
              "size": 10,
              "solidity": 0.2
             }
            },
            "type": "bar"
           }
          ],
          "barpolar": [
           {
            "marker": {
             "line": {
              "color": "#E5ECF6",
              "width": 0.5
             },
             "pattern": {
              "fillmode": "overlay",
              "size": 10,
              "solidity": 0.2
             }
            },
            "type": "barpolar"
           }
          ],
          "carpet": [
           {
            "aaxis": {
             "endlinecolor": "#2a3f5f",
             "gridcolor": "white",
             "linecolor": "white",
             "minorgridcolor": "white",
             "startlinecolor": "#2a3f5f"
            },
            "baxis": {
             "endlinecolor": "#2a3f5f",
             "gridcolor": "white",
             "linecolor": "white",
             "minorgridcolor": "white",
             "startlinecolor": "#2a3f5f"
            },
            "type": "carpet"
           }
          ],
          "choropleth": [
           {
            "colorbar": {
             "outlinewidth": 0,
             "ticks": ""
            },
            "type": "choropleth"
           }
          ],
          "contour": [
           {
            "colorbar": {
             "outlinewidth": 0,
             "ticks": ""
            },
            "colorscale": [
             [
              0,
              "#0d0887"
             ],
             [
              0.1111111111111111,
              "#46039f"
             ],
             [
              0.2222222222222222,
              "#7201a8"
             ],
             [
              0.3333333333333333,
              "#9c179e"
             ],
             [
              0.4444444444444444,
              "#bd3786"
             ],
             [
              0.5555555555555556,
              "#d8576b"
             ],
             [
              0.6666666666666666,
              "#ed7953"
             ],
             [
              0.7777777777777778,
              "#fb9f3a"
             ],
             [
              0.8888888888888888,
              "#fdca26"
             ],
             [
              1,
              "#f0f921"
             ]
            ],
            "type": "contour"
           }
          ],
          "contourcarpet": [
           {
            "colorbar": {
             "outlinewidth": 0,
             "ticks": ""
            },
            "type": "contourcarpet"
           }
          ],
          "heatmap": [
           {
            "colorbar": {
             "outlinewidth": 0,
             "ticks": ""
            },
            "colorscale": [
             [
              0,
              "#0d0887"
             ],
             [
              0.1111111111111111,
              "#46039f"
             ],
             [
              0.2222222222222222,
              "#7201a8"
             ],
             [
              0.3333333333333333,
              "#9c179e"
             ],
             [
              0.4444444444444444,
              "#bd3786"
             ],
             [
              0.5555555555555556,
              "#d8576b"
             ],
             [
              0.6666666666666666,
              "#ed7953"
             ],
             [
              0.7777777777777778,
              "#fb9f3a"
             ],
             [
              0.8888888888888888,
              "#fdca26"
             ],
             [
              1,
              "#f0f921"
             ]
            ],
            "type": "heatmap"
           }
          ],
          "heatmapgl": [
           {
            "colorbar": {
             "outlinewidth": 0,
             "ticks": ""
            },
            "colorscale": [
             [
              0,
              "#0d0887"
             ],
             [
              0.1111111111111111,
              "#46039f"
             ],
             [
              0.2222222222222222,
              "#7201a8"
             ],
             [
              0.3333333333333333,
              "#9c179e"
             ],
             [
              0.4444444444444444,
              "#bd3786"
             ],
             [
              0.5555555555555556,
              "#d8576b"
             ],
             [
              0.6666666666666666,
              "#ed7953"
             ],
             [
              0.7777777777777778,
              "#fb9f3a"
             ],
             [
              0.8888888888888888,
              "#fdca26"
             ],
             [
              1,
              "#f0f921"
             ]
            ],
            "type": "heatmapgl"
           }
          ],
          "histogram": [
           {
            "marker": {
             "pattern": {
              "fillmode": "overlay",
              "size": 10,
              "solidity": 0.2
             }
            },
            "type": "histogram"
           }
          ],
          "histogram2d": [
           {
            "colorbar": {
             "outlinewidth": 0,
             "ticks": ""
            },
            "colorscale": [
             [
              0,
              "#0d0887"
             ],
             [
              0.1111111111111111,
              "#46039f"
             ],
             [
              0.2222222222222222,
              "#7201a8"
             ],
             [
              0.3333333333333333,
              "#9c179e"
             ],
             [
              0.4444444444444444,
              "#bd3786"
             ],
             [
              0.5555555555555556,
              "#d8576b"
             ],
             [
              0.6666666666666666,
              "#ed7953"
             ],
             [
              0.7777777777777778,
              "#fb9f3a"
             ],
             [
              0.8888888888888888,
              "#fdca26"
             ],
             [
              1,
              "#f0f921"
             ]
            ],
            "type": "histogram2d"
           }
          ],
          "histogram2dcontour": [
           {
            "colorbar": {
             "outlinewidth": 0,
             "ticks": ""
            },
            "colorscale": [
             [
              0,
              "#0d0887"
             ],
             [
              0.1111111111111111,
              "#46039f"
             ],
             [
              0.2222222222222222,
              "#7201a8"
             ],
             [
              0.3333333333333333,
              "#9c179e"
             ],
             [
              0.4444444444444444,
              "#bd3786"
             ],
             [
              0.5555555555555556,
              "#d8576b"
             ],
             [
              0.6666666666666666,
              "#ed7953"
             ],
             [
              0.7777777777777778,
              "#fb9f3a"
             ],
             [
              0.8888888888888888,
              "#fdca26"
             ],
             [
              1,
              "#f0f921"
             ]
            ],
            "type": "histogram2dcontour"
           }
          ],
          "mesh3d": [
           {
            "colorbar": {
             "outlinewidth": 0,
             "ticks": ""
            },
            "type": "mesh3d"
           }
          ],
          "parcoords": [
           {
            "line": {
             "colorbar": {
              "outlinewidth": 0,
              "ticks": ""
             }
            },
            "type": "parcoords"
           }
          ],
          "pie": [
           {
            "automargin": true,
            "type": "pie"
           }
          ],
          "scatter": [
           {
            "fillpattern": {
             "fillmode": "overlay",
             "size": 10,
             "solidity": 0.2
            },
            "type": "scatter"
           }
          ],
          "scatter3d": [
           {
            "line": {
             "colorbar": {
              "outlinewidth": 0,
              "ticks": ""
             }
            },
            "marker": {
             "colorbar": {
              "outlinewidth": 0,
              "ticks": ""
             }
            },
            "type": "scatter3d"
           }
          ],
          "scattercarpet": [
           {
            "marker": {
             "colorbar": {
              "outlinewidth": 0,
              "ticks": ""
             }
            },
            "type": "scattercarpet"
           }
          ],
          "scattergeo": [
           {
            "marker": {
             "colorbar": {
              "outlinewidth": 0,
              "ticks": ""
             }
            },
            "type": "scattergeo"
           }
          ],
          "scattergl": [
           {
            "marker": {
             "colorbar": {
              "outlinewidth": 0,
              "ticks": ""
             }
            },
            "type": "scattergl"
           }
          ],
          "scattermapbox": [
           {
            "marker": {
             "colorbar": {
              "outlinewidth": 0,
              "ticks": ""
             }
            },
            "type": "scattermapbox"
           }
          ],
          "scatterpolar": [
           {
            "marker": {
             "colorbar": {
              "outlinewidth": 0,
              "ticks": ""
             }
            },
            "type": "scatterpolar"
           }
          ],
          "scatterpolargl": [
           {
            "marker": {
             "colorbar": {
              "outlinewidth": 0,
              "ticks": ""
             }
            },
            "type": "scatterpolargl"
           }
          ],
          "scatterternary": [
           {
            "marker": {
             "colorbar": {
              "outlinewidth": 0,
              "ticks": ""
             }
            },
            "type": "scatterternary"
           }
          ],
          "surface": [
           {
            "colorbar": {
             "outlinewidth": 0,
             "ticks": ""
            },
            "colorscale": [
             [
              0,
              "#0d0887"
             ],
             [
              0.1111111111111111,
              "#46039f"
             ],
             [
              0.2222222222222222,
              "#7201a8"
             ],
             [
              0.3333333333333333,
              "#9c179e"
             ],
             [
              0.4444444444444444,
              "#bd3786"
             ],
             [
              0.5555555555555556,
              "#d8576b"
             ],
             [
              0.6666666666666666,
              "#ed7953"
             ],
             [
              0.7777777777777778,
              "#fb9f3a"
             ],
             [
              0.8888888888888888,
              "#fdca26"
             ],
             [
              1,
              "#f0f921"
             ]
            ],
            "type": "surface"
           }
          ],
          "table": [
           {
            "cells": {
             "fill": {
              "color": "#EBF0F8"
             },
             "line": {
              "color": "white"
             }
            },
            "header": {
             "fill": {
              "color": "#C8D4E3"
             },
             "line": {
              "color": "white"
             }
            },
            "type": "table"
           }
          ]
         },
         "layout": {
          "annotationdefaults": {
           "arrowcolor": "#2a3f5f",
           "arrowhead": 0,
           "arrowwidth": 1
          },
          "autotypenumbers": "strict",
          "coloraxis": {
           "colorbar": {
            "outlinewidth": 0,
            "ticks": ""
           }
          },
          "colorscale": {
           "diverging": [
            [
             0,
             "#8e0152"
            ],
            [
             0.1,
             "#c51b7d"
            ],
            [
             0.2,
             "#de77ae"
            ],
            [
             0.3,
             "#f1b6da"
            ],
            [
             0.4,
             "#fde0ef"
            ],
            [
             0.5,
             "#f7f7f7"
            ],
            [
             0.6,
             "#e6f5d0"
            ],
            [
             0.7,
             "#b8e186"
            ],
            [
             0.8,
             "#7fbc41"
            ],
            [
             0.9,
             "#4d9221"
            ],
            [
             1,
             "#276419"
            ]
           ],
           "sequential": [
            [
             0,
             "#0d0887"
            ],
            [
             0.1111111111111111,
             "#46039f"
            ],
            [
             0.2222222222222222,
             "#7201a8"
            ],
            [
             0.3333333333333333,
             "#9c179e"
            ],
            [
             0.4444444444444444,
             "#bd3786"
            ],
            [
             0.5555555555555556,
             "#d8576b"
            ],
            [
             0.6666666666666666,
             "#ed7953"
            ],
            [
             0.7777777777777778,
             "#fb9f3a"
            ],
            [
             0.8888888888888888,
             "#fdca26"
            ],
            [
             1,
             "#f0f921"
            ]
           ],
           "sequentialminus": [
            [
             0,
             "#0d0887"
            ],
            [
             0.1111111111111111,
             "#46039f"
            ],
            [
             0.2222222222222222,
             "#7201a8"
            ],
            [
             0.3333333333333333,
             "#9c179e"
            ],
            [
             0.4444444444444444,
             "#bd3786"
            ],
            [
             0.5555555555555556,
             "#d8576b"
            ],
            [
             0.6666666666666666,
             "#ed7953"
            ],
            [
             0.7777777777777778,
             "#fb9f3a"
            ],
            [
             0.8888888888888888,
             "#fdca26"
            ],
            [
             1,
             "#f0f921"
            ]
           ]
          },
          "colorway": [
           "#636efa",
           "#EF553B",
           "#00cc96",
           "#ab63fa",
           "#FFA15A",
           "#19d3f3",
           "#FF6692",
           "#B6E880",
           "#FF97FF",
           "#FECB52"
          ],
          "font": {
           "color": "#2a3f5f"
          },
          "geo": {
           "bgcolor": "white",
           "lakecolor": "white",
           "landcolor": "#E5ECF6",
           "showlakes": true,
           "showland": true,
           "subunitcolor": "white"
          },
          "hoverlabel": {
           "align": "left"
          },
          "hovermode": "closest",
          "mapbox": {
           "style": "light"
          },
          "paper_bgcolor": "white",
          "plot_bgcolor": "#E5ECF6",
          "polar": {
           "angularaxis": {
            "gridcolor": "white",
            "linecolor": "white",
            "ticks": ""
           },
           "bgcolor": "#E5ECF6",
           "radialaxis": {
            "gridcolor": "white",
            "linecolor": "white",
            "ticks": ""
           }
          },
          "scene": {
           "xaxis": {
            "backgroundcolor": "#E5ECF6",
            "gridcolor": "white",
            "gridwidth": 2,
            "linecolor": "white",
            "showbackground": true,
            "ticks": "",
            "zerolinecolor": "white"
           },
           "yaxis": {
            "backgroundcolor": "#E5ECF6",
            "gridcolor": "white",
            "gridwidth": 2,
            "linecolor": "white",
            "showbackground": true,
            "ticks": "",
            "zerolinecolor": "white"
           },
           "zaxis": {
            "backgroundcolor": "#E5ECF6",
            "gridcolor": "white",
            "gridwidth": 2,
            "linecolor": "white",
            "showbackground": true,
            "ticks": "",
            "zerolinecolor": "white"
           }
          },
          "shapedefaults": {
           "line": {
            "color": "#2a3f5f"
           }
          },
          "ternary": {
           "aaxis": {
            "gridcolor": "white",
            "linecolor": "white",
            "ticks": ""
           },
           "baxis": {
            "gridcolor": "white",
            "linecolor": "white",
            "ticks": ""
           },
           "bgcolor": "#E5ECF6",
           "caxis": {
            "gridcolor": "white",
            "linecolor": "white",
            "ticks": ""
           }
          },
          "title": {
           "x": 0.05
          },
          "xaxis": {
           "automargin": true,
           "gridcolor": "white",
           "linecolor": "white",
           "ticks": "",
           "title": {
            "standoff": 15
           },
           "zerolinecolor": "white",
           "zerolinewidth": 2
          },
          "yaxis": {
           "automargin": true,
           "gridcolor": "white",
           "linecolor": "white",
           "ticks": "",
           "title": {
            "standoff": 15
           },
           "zerolinecolor": "white",
           "zerolinewidth": 2
          }
         }
        },
        "title": {
         "font": {
          "size": 20
         },
         "text": "Application Locations with Status Highlighted",
         "x": 0.5,
         "xanchor": "center",
         "y": 0.95,
         "yanchor": "top"
        }
       }
      }
     },
     "metadata": {},
     "output_type": "display_data"
    }
   ],
   "source": [
    "if __name__ == \"__main__\":\n",
    "    # Load the data\n",
    "    # file_path = \"DataExport.xlsx\"\n",
    "    # df = load_data(file_path)\n",
    "\n",
    "    # # Geocode the addresses with a limit of 20\n",
    "    # df = geocode_dataframe(df, address_col='Full Address', limit=200)\n",
    "\n",
    "    # # Drop rows with missing coordinates\n",
    "    # df = df.dropna(subset=['Latitude', 'Longitude'])\n",
    "\n",
    "    # Plot the map\n",
    "    fig = plot_map(df)\n",
    "    fig.show()\n"
   ]
  },
  {
   "cell_type": "code",
   "execution_count": 39,
   "metadata": {},
   "outputs": [
    {
     "data": {
      "text/html": [
       "<div>\n",
       "<style scoped>\n",
       "    .dataframe tbody tr th:only-of-type {\n",
       "        vertical-align: middle;\n",
       "    }\n",
       "\n",
       "    .dataframe tbody tr th {\n",
       "        vertical-align: top;\n",
       "    }\n",
       "\n",
       "    .dataframe thead th {\n",
       "        text-align: right;\n",
       "    }\n",
       "</style>\n",
       "<table border=\"1\" class=\"dataframe\">\n",
       "  <thead>\n",
       "    <tr style=\"text-align: right;\">\n",
       "      <th></th>\n",
       "      <th>Application Number</th>\n",
       "      <th>Application Date</th>\n",
       "      <th>Application Type</th>\n",
       "      <th>Address Number</th>\n",
       "      <th>Road Name</th>\n",
       "      <th>Road Type</th>\n",
       "      <th>Object Status Type</th>\n",
       "      <th>Application Status</th>\n",
       "      <th>File Lead</th>\n",
       "      <th>Brief Description</th>\n",
       "      <th>Object Status Date</th>\n",
       "      <th>Ward #</th>\n",
       "      <th>Ward</th>\n",
       "      <th>Full Address</th>\n",
       "      <th>Latitude</th>\n",
       "      <th>Longitude</th>\n",
       "      <th>Processing Time</th>\n",
       "    </tr>\n",
       "  </thead>\n",
       "  <tbody>\n",
       "    <tr>\n",
       "      <th>0</th>\n",
       "      <td>D07-05-16-0003</td>\n",
       "      <td>2016-06-20</td>\n",
       "      <td>Demolition Control</td>\n",
       "      <td>101</td>\n",
       "      <td>WURTEMBURG</td>\n",
       "      <td>Street</td>\n",
       "      <td>Agreement Signed</td>\n",
       "      <td>Post Approval</td>\n",
       "      <td>Douglas James</td>\n",
       "      <td>The application for demolition control propose...</td>\n",
       "      <td>2016-09-26 15:21</td>\n",
       "      <td>Ward 12</td>\n",
       "      <td>RIDEAU-VANIER</td>\n",
       "      <td>101 WURTEMBURG Street</td>\n",
       "      <td>45.434625</td>\n",
       "      <td>-75.676036</td>\n",
       "      <td>98</td>\n",
       "    </tr>\n",
       "    <tr>\n",
       "      <th>1</th>\n",
       "      <td>D07-05-15-0008</td>\n",
       "      <td>2015-12-14</td>\n",
       "      <td>Demolition Control</td>\n",
       "      <td>163</td>\n",
       "      <td>PARKDALE</td>\n",
       "      <td>Avenue</td>\n",
       "      <td>Agreement Registered - Final Legal Clearance G...</td>\n",
       "      <td>Post Approval</td>\n",
       "      <td>Tracey Scaramozzino</td>\n",
       "      <td>An application for Demolition Control for the ...</td>\n",
       "      <td>2018-09-25 09:49</td>\n",
       "      <td>Ward 15</td>\n",
       "      <td>KITCHISSIPPI</td>\n",
       "      <td>163 PARKDALE Avenue</td>\n",
       "      <td>45.407041</td>\n",
       "      <td>-75.73261</td>\n",
       "      <td>1016</td>\n",
       "    </tr>\n",
       "    <tr>\n",
       "      <th>2</th>\n",
       "      <td>D07-05-15-0008</td>\n",
       "      <td>2015-12-14</td>\n",
       "      <td>Demolition Control</td>\n",
       "      <td>167</td>\n",
       "      <td>PARKDALE</td>\n",
       "      <td>Avenue</td>\n",
       "      <td>Agreement Registered - Final Legal Clearance G...</td>\n",
       "      <td>Post Approval</td>\n",
       "      <td>Tracey Scaramozzino</td>\n",
       "      <td>An application for Demolition Control for the ...</td>\n",
       "      <td>2018-09-25 09:49</td>\n",
       "      <td>Ward 15</td>\n",
       "      <td>KITCHISSIPPI</td>\n",
       "      <td>167 PARKDALE Avenue</td>\n",
       "      <td>45.407063</td>\n",
       "      <td>-75.732554</td>\n",
       "      <td>1016</td>\n",
       "    </tr>\n",
       "    <tr>\n",
       "      <th>3</th>\n",
       "      <td>D07-16-15-0015</td>\n",
       "      <td>2015-12-30</td>\n",
       "      <td>Plan of Subdivision</td>\n",
       "      <td>1626</td>\n",
       "      <td>OLD PRESCOTT</td>\n",
       "      <td>Road</td>\n",
       "      <td>Application File Pending</td>\n",
       "      <td>File Pending</td>\n",
       "      <td>Cheryl Mcwilliams</td>\n",
       "      <td>The proposed plan of subdivision comprises pha...</td>\n",
       "      <td>2016-03-17 09:48</td>\n",
       "      <td>Ward 20</td>\n",
       "      <td>OSGOODE</td>\n",
       "      <td>1626 OLD PRESCOTT Road</td>\n",
       "      <td>45.249583</td>\n",
       "      <td>-75.563954</td>\n",
       "      <td>78</td>\n",
       "    </tr>\n",
       "    <tr>\n",
       "      <th>4</th>\n",
       "      <td>D07-12-16-0002</td>\n",
       "      <td>2016-01-04</td>\n",
       "      <td>Site Plan Control</td>\n",
       "      <td>774</td>\n",
       "      <td>BRONSON</td>\n",
       "      <td>Avenue</td>\n",
       "      <td>Application File Pending</td>\n",
       "      <td>File Pending</td>\n",
       "      <td>Steve Gauthier</td>\n",
       "      <td>12-storey mixed-use building for university st...</td>\n",
       "      <td>2017-12-31 15:52</td>\n",
       "      <td>Ward 17</td>\n",
       "      <td>CAPITAL</td>\n",
       "      <td>774 BRONSON Avenue</td>\n",
       "      <td>45.400403</td>\n",
       "      <td>-75.699606</td>\n",
       "      <td>727</td>\n",
       "    </tr>\n",
       "    <tr>\n",
       "      <th>...</th>\n",
       "      <td>...</td>\n",
       "      <td>...</td>\n",
       "      <td>...</td>\n",
       "      <td>...</td>\n",
       "      <td>...</td>\n",
       "      <td>...</td>\n",
       "      <td>...</td>\n",
       "      <td>...</td>\n",
       "      <td>...</td>\n",
       "      <td>...</td>\n",
       "      <td>...</td>\n",
       "      <td>...</td>\n",
       "      <td>...</td>\n",
       "      <td>...</td>\n",
       "      <td>...</td>\n",
       "      <td>...</td>\n",
       "      <td>...</td>\n",
       "    </tr>\n",
       "    <tr>\n",
       "      <th>192</th>\n",
       "      <td>D02-02-11-0036</td>\n",
       "      <td>2011-04-29</td>\n",
       "      <td>Zoning By-law Amendment</td>\n",
       "      <td>370</td>\n",
       "      <td>HUNTMAR</td>\n",
       "      <td>Drive</td>\n",
       "      <td>Application File Pending</td>\n",
       "      <td>File Pending</td>\n",
       "      <td>Sean Moore</td>\n",
       "      <td>The applicant is proposing to rezone the subje...</td>\n",
       "      <td>2011-12-06 08:49</td>\n",
       "      <td>Ward 4</td>\n",
       "      <td>KANATA NORTH</td>\n",
       "      <td>370 HUNTMAR Drive</td>\n",
       "      <td>45.287986</td>\n",
       "      <td>-75.919081</td>\n",
       "      <td>221</td>\n",
       "    </tr>\n",
       "    <tr>\n",
       "      <th>194</th>\n",
       "      <td>D07-12-11-0166</td>\n",
       "      <td>2011-08-25</td>\n",
       "      <td>Site Plan Control</td>\n",
       "      <td>288</td>\n",
       "      <td>BOOTH</td>\n",
       "      <td>Street</td>\n",
       "      <td>Application File Pending</td>\n",
       "      <td>File Pending</td>\n",
       "      <td>Simon Deiaco</td>\n",
       "      <td>New 7-storey Mixed Use Building with 54 Reside...</td>\n",
       "      <td>2012-01-23 14:30</td>\n",
       "      <td>Ward 14</td>\n",
       "      <td>SOMERSET</td>\n",
       "      <td>288 BOOTH Street</td>\n",
       "      <td>45.40962</td>\n",
       "      <td>-75.710987</td>\n",
       "      <td>151</td>\n",
       "    </tr>\n",
       "    <tr>\n",
       "      <th>195</th>\n",
       "      <td>D02-02-11-0066</td>\n",
       "      <td>2011-07-27</td>\n",
       "      <td>Zoning By-law Amendment</td>\n",
       "      <td>6335</td>\n",
       "      <td>PERTH</td>\n",
       "      <td>Street</td>\n",
       "      <td>Application Approved by OMB</td>\n",
       "      <td>Inactive</td>\n",
       "      <td>Cheryl Mcwilliams</td>\n",
       "      <td>The subdivision and zoning would see the devel...</td>\n",
       "      <td>2014-06-23 09:29</td>\n",
       "      <td>Ward 21</td>\n",
       "      <td>RIDEAU-JOCK</td>\n",
       "      <td>6335 PERTH Street</td>\n",
       "      <td>45.188343</td>\n",
       "      <td>-75.848649</td>\n",
       "      <td>1062</td>\n",
       "    </tr>\n",
       "    <tr>\n",
       "      <th>198</th>\n",
       "      <td>D02-02-11-0102</td>\n",
       "      <td>2011-10-21</td>\n",
       "      <td>Zoning By-law Amendment</td>\n",
       "      <td>175</td>\n",
       "      <td>RICHMOND</td>\n",
       "      <td>Road</td>\n",
       "      <td>Comment Period in Progress</td>\n",
       "      <td>Post Approval</td>\n",
       "      <td>Allison Hamlin</td>\n",
       "      <td>The Zoning By-law Amendment and Site Plan Cont...</td>\n",
       "      <td>2020-08-11 09:51</td>\n",
       "      <td>Ward 15</td>\n",
       "      <td>KITCHISSIPPI</td>\n",
       "      <td>175 RICHMOND Road</td>\n",
       "      <td>51.451465</td>\n",
       "      <td>-0.319129</td>\n",
       "      <td>3217</td>\n",
       "    </tr>\n",
       "    <tr>\n",
       "      <th>199</th>\n",
       "      <td>D07-05-11-0006</td>\n",
       "      <td>2011-11-30</td>\n",
       "      <td>Demolition Control</td>\n",
       "      <td>72</td>\n",
       "      <td>TEMPLETON</td>\n",
       "      <td>Street</td>\n",
       "      <td>Application File Pending</td>\n",
       "      <td>File Pending</td>\n",
       "      <td>Erin O'Connell</td>\n",
       "      <td>Description of Site and Surroundings:\\nThe pro...</td>\n",
       "      <td>2012-01-15 16:01</td>\n",
       "      <td>Ward 12</td>\n",
       "      <td>RIDEAU-VANIER</td>\n",
       "      <td>72 TEMPLETON Street</td>\n",
       "      <td>45.421079</td>\n",
       "      <td>-75.677135</td>\n",
       "      <td>46</td>\n",
       "    </tr>\n",
       "  </tbody>\n",
       "</table>\n",
       "<p>176 rows × 17 columns</p>\n",
       "</div>"
      ],
      "text/plain": [
       "    Application Number Application Date         Application Type  \\\n",
       "0       D07-05-16-0003       2016-06-20       Demolition Control   \n",
       "1       D07-05-15-0008       2015-12-14       Demolition Control   \n",
       "2       D07-05-15-0008       2015-12-14       Demolition Control   \n",
       "3       D07-16-15-0015       2015-12-30      Plan of Subdivision   \n",
       "4       D07-12-16-0002       2016-01-04        Site Plan Control   \n",
       "..                 ...              ...                      ...   \n",
       "192     D02-02-11-0036       2011-04-29  Zoning By-law Amendment   \n",
       "194     D07-12-11-0166       2011-08-25        Site Plan Control   \n",
       "195     D02-02-11-0066       2011-07-27  Zoning By-law Amendment   \n",
       "198     D02-02-11-0102       2011-10-21  Zoning By-law Amendment   \n",
       "199     D07-05-11-0006       2011-11-30       Demolition Control   \n",
       "\n",
       "     Address Number     Road Name Road Type  \\\n",
       "0               101    WURTEMBURG    Street   \n",
       "1               163      PARKDALE    Avenue   \n",
       "2               167      PARKDALE    Avenue   \n",
       "3              1626  OLD PRESCOTT      Road   \n",
       "4               774       BRONSON    Avenue   \n",
       "..              ...           ...       ...   \n",
       "192             370       HUNTMAR     Drive   \n",
       "194             288         BOOTH    Street   \n",
       "195            6335         PERTH    Street   \n",
       "198             175      RICHMOND      Road   \n",
       "199              72     TEMPLETON    Street   \n",
       "\n",
       "                                    Object Status Type Application Status  \\\n",
       "0                                     Agreement Signed      Post Approval   \n",
       "1    Agreement Registered - Final Legal Clearance G...      Post Approval   \n",
       "2    Agreement Registered - Final Legal Clearance G...      Post Approval   \n",
       "3                             Application File Pending       File Pending   \n",
       "4                             Application File Pending       File Pending   \n",
       "..                                                 ...                ...   \n",
       "192                           Application File Pending       File Pending   \n",
       "194                           Application File Pending       File Pending   \n",
       "195                        Application Approved by OMB           Inactive   \n",
       "198                         Comment Period in Progress      Post Approval   \n",
       "199                           Application File Pending       File Pending   \n",
       "\n",
       "               File Lead                                  Brief Description  \\\n",
       "0          Douglas James  The application for demolition control propose...   \n",
       "1    Tracey Scaramozzino  An application for Demolition Control for the ...   \n",
       "2    Tracey Scaramozzino  An application for Demolition Control for the ...   \n",
       "3      Cheryl Mcwilliams  The proposed plan of subdivision comprises pha...   \n",
       "4         Steve Gauthier  12-storey mixed-use building for university st...   \n",
       "..                   ...                                                ...   \n",
       "192           Sean Moore  The applicant is proposing to rezone the subje...   \n",
       "194         Simon Deiaco  New 7-storey Mixed Use Building with 54 Reside...   \n",
       "195    Cheryl Mcwilliams  The subdivision and zoning would see the devel...   \n",
       "198       Allison Hamlin  The Zoning By-law Amendment and Site Plan Cont...   \n",
       "199       Erin O'Connell  Description of Site and Surroundings:\\nThe pro...   \n",
       "\n",
       "    Object Status Date   Ward #           Ward            Full Address  \\\n",
       "0     2016-09-26 15:21  Ward 12  RIDEAU-VANIER   101 WURTEMBURG Street   \n",
       "1     2018-09-25 09:49  Ward 15   KITCHISSIPPI     163 PARKDALE Avenue   \n",
       "2     2018-09-25 09:49  Ward 15   KITCHISSIPPI     167 PARKDALE Avenue   \n",
       "3     2016-03-17 09:48  Ward 20        OSGOODE  1626 OLD PRESCOTT Road   \n",
       "4     2017-12-31 15:52  Ward 17        CAPITAL      774 BRONSON Avenue   \n",
       "..                 ...      ...            ...                     ...   \n",
       "192   2011-12-06 08:49   Ward 4   KANATA NORTH       370 HUNTMAR Drive   \n",
       "194   2012-01-23 14:30  Ward 14       SOMERSET        288 BOOTH Street   \n",
       "195   2014-06-23 09:29  Ward 21    RIDEAU-JOCK       6335 PERTH Street   \n",
       "198   2020-08-11 09:51  Ward 15   KITCHISSIPPI       175 RICHMOND Road   \n",
       "199   2012-01-15 16:01  Ward 12  RIDEAU-VANIER     72 TEMPLETON Street   \n",
       "\n",
       "      Latitude  Longitude  Processing Time  \n",
       "0    45.434625 -75.676036               98  \n",
       "1    45.407041  -75.73261             1016  \n",
       "2    45.407063 -75.732554             1016  \n",
       "3    45.249583 -75.563954               78  \n",
       "4    45.400403 -75.699606              727  \n",
       "..         ...        ...              ...  \n",
       "192  45.287986 -75.919081              221  \n",
       "194   45.40962 -75.710987              151  \n",
       "195  45.188343 -75.848649             1062  \n",
       "198  51.451465  -0.319129             3217  \n",
       "199  45.421079 -75.677135               46  \n",
       "\n",
       "[176 rows x 17 columns]"
      ]
     },
     "execution_count": 39,
     "metadata": {},
     "output_type": "execute_result"
    }
   ],
   "source": [
    "df\n"
   ]
  },
  {
   "cell_type": "code",
   "execution_count": 58,
   "metadata": {},
   "outputs": [
    {
     "data": {
      "text/html": [
       "\n",
       "        <iframe\n",
       "            width=\"100%\"\n",
       "            height=\"650\"\n",
       "            src=\"http://127.0.0.1:8050/\"\n",
       "            frameborder=\"0\"\n",
       "            allowfullscreen\n",
       "            \n",
       "        ></iframe>\n",
       "        "
      ],
      "text/plain": [
       "<IPython.lib.display.IFrame at 0x10fc0b980>"
      ]
     },
     "metadata": {},
     "output_type": "display_data"
    }
   ],
   "source": [
    "import dash\n",
    "from dash import dcc, html\n",
    "import dash_bootstrap_components as dbc\n",
    "from jupyter_dash import JupyterDash\n",
    "from dash.dependencies import Output, Input  # Add this line\n",
    "\n",
    "app = dash.Dash(__name__, external_stylesheets=[dbc.themes.BOOTSTRAP])\n",
    "\n",
    "app.layout = dbc.Container(\n",
    "    [\n",
    "        dbc.Row(\n",
    "            dbc.Col(html.H1(\"Geocoded Address Map with Filtering\", className=\"text-center mt-4 mb-4\"), width=12)\n",
    "        ),\n",
    "        dbc.Row(\n",
    "            dbc.Col(\n",
    "                dcc.Dropdown(\n",
    "                    id=\"application-type-filter\",\n",
    "                    options=[{\"label\": t, \"value\": t} for t in df['Application Status'].unique()],\n",
    "                    multi=True,\n",
    "                    placeholder=\"Select Application Status\",\n",
    "                ),\n",
    "                width=12\n",
    "            )\n",
    "        ),\n",
    "        dbc.Row(\n",
    "            dbc.Col(dcc.Graph(id=\"map\"), width=12)\n",
    "        ),\n",
    "    ],\n",
    "    fluid=True\n",
    ")\n",
    "\n",
    "@app.callback(\n",
    "    Output(\"map\", \"figure\"),\n",
    "    [Input(\"application-type-filter\", \"value\")]\n",
    ")\n",
    "def update_map(selected_types):\n",
    "    \"\"\"\n",
    "    Update the map based on selected application types.\n",
    "    \"\"\"\n",
    "    filtered_df = df\n",
    "    if selected_types:\n",
    "        filtered_df = df[df['Application Status'].isin(selected_types)]\n",
    "    return plot_map(filtered_df)\n",
    "\n",
    "# Run the Dash app in the notebook\n",
    "app.run_server(mode=\"inline\")"
   ]
  },
  {
   "cell_type": "code",
   "execution_count": null,
   "metadata": {},
   "outputs": [],
   "source": []
  }
 ],
 "metadata": {
  "kernelspec": {
   "display_name": "Python 3",
   "language": "python",
   "name": "python3"
  },
  "language_info": {
   "codemirror_mode": {
    "name": "ipython",
    "version": 3
   },
   "file_extension": ".py",
   "mimetype": "text/x-python",
   "name": "python",
   "nbconvert_exporter": "python",
   "pygments_lexer": "ipython3",
   "version": "3.12.6"
  }
 },
 "nbformat": 4,
 "nbformat_minor": 2
}
